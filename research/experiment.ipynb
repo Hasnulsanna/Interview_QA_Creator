{
 "cells": [
  {
   "cell_type": "code",
   "execution_count": 3,
   "metadata": {},
   "outputs": [],
   "source": [
    "import os \n",
    "from dotenv import load_dotenv"
   ]
  },
  {
   "cell_type": "code",
   "execution_count": 4,
   "metadata": {},
   "outputs": [],
   "source": [
    "load_dotenv()\n",
    "HUGGINFACE_API_KEY = os.getenv(\"HUGGINFACE_API_KEY\")\n",
    "#HUGGINFACE_API_KEY"
   ]
  },
  {
   "cell_type": "code",
   "execution_count": 5,
   "metadata": {},
   "outputs": [],
   "source": [
    "os.environ[\"HUGGINFACE_API_KEY\"] = HUGGINFACE_API_KEY"
   ]
  },
  {
   "cell_type": "code",
   "execution_count": 6,
   "metadata": {},
   "outputs": [],
   "source": [
    "from langchain_community.document_loaders import PyPDFLoader"
   ]
  },
  {
   "cell_type": "code",
   "execution_count": 7,
   "metadata": {},
   "outputs": [
    {
     "data": {
      "text/plain": [
       "'c:\\\\Users\\\\sanna\\\\OneDrive\\\\Desktop\\\\GenAI\\\\Interview_QA\\\\research'"
      ]
     },
     "execution_count": 7,
     "metadata": {},
     "output_type": "execute_result"
    }
   ],
   "source": [
    "%pwd"
   ]
  },
  {
   "cell_type": "code",
   "execution_count": 8,
   "metadata": {},
   "outputs": [
    {
     "name": "stdout",
     "output_type": "stream",
     "text": [
      "c:\\Users\\sanna\\OneDrive\\Desktop\\GenAI\\Interview_QA\n"
     ]
    },
    {
     "name": "stderr",
     "output_type": "stream",
     "text": [
      "c:\\Users\\sanna\\conda\\anaconda3\\envs\\interview\\lib\\site-packages\\IPython\\core\\magics\\osm.py:417: UserWarning: This is now an optional IPython functionality, setting dhist requires you to install the `pickleshare` library.\n",
      "  self.shell.db['dhist'] = compress_dhist(dhist)[-100:]\n"
     ]
    }
   ],
   "source": [
    "%cd ..\n"
   ]
  },
  {
   "cell_type": "code",
   "execution_count": 9,
   "metadata": {},
   "outputs": [
    {
     "data": {
      "text/plain": [
       "[Document(metadata={'producer': 'Adobe PDF Library 15.0', 'creator': 'Adobe InDesign CC 13.0 (Macintosh)', 'creationdate': '2017-12-26T16:03:25-05:00', 'moddate': '2017-12-27T15:29:10-05:00', 'trapped': '/False', 'source': 'data/SDG.pdf', 'total_pages': 24, 'page': 0, 'page_label': '1'}, page_content=''),\n",
       " Document(metadata={'producer': 'Adobe PDF Library 15.0', 'creator': 'Adobe InDesign CC 13.0 (Macintosh)', 'creationdate': '2017-12-26T16:03:25-05:00', 'moddate': '2017-12-27T15:29:10-05:00', 'trapped': '/False', 'source': 'data/SDG.pdf', 'total_pages': 24, 'page': 1, 'page_label': '2'}, page_content=''),\n",
       " Document(metadata={'producer': 'Adobe PDF Library 15.0', 'creator': 'Adobe InDesign CC 13.0 (Macintosh)', 'creationdate': '2017-12-26T16:03:25-05:00', 'moddate': '2017-12-27T15:29:10-05:00', 'trapped': '/False', 'source': 'data/SDG.pdf', 'total_pages': 24, 'page': 2, 'page_label': '3'}, page_content='IN THE YEAR 2015, LEADERS FROM 193 COUNTRIES OF THE WORLD \\nCAME TOGETHER TO FACE THE FUTURE.\\nAnd what they saw was daunting. Famines. Drought. Wars. Plagues. Poverty. \\nNot just in some faraway place, but in their own cities and towns and villages.\\nThey knew things didn’t have to be this way. They knew we had enough \\nfood to feed the world, but that it wasn’t getting shared. They knew there \\nwere medicines for HIV and other diseases, but they cost a lot. They knew \\nthat earthquakes and floods were inevitable, but that the high death \\ntolls were not. \\nThey also knew that billions of people worldwide shared their hope for a \\nbetter future.\\nSo leaders from these countries created a plan called the Sustainable \\nDevelopment Goals (SDGs). This set of 17 goals imagines a future just 15 years \\noff that would be rid of poverty and hunger, and safe from the worst effects of \\nclimate change. It’s an ambitious plan. \\nBut there’s ample evidence that we can succeed. In the past 15 years, the \\ninternational community cut extreme poverty in half. \\nNow we can finish the job.\\nThe United Nations Development Programme (UNDP) is one of the leading \\norganizations working to fulfil the SDGs by the year 2030. Present in nearly \\n170 countries and territories, we help nations make the Goals a reality. \\nWe also champion the Goals so that people everywhere know how to \\ndo their part. \\nUNDP is proud to continue as a leader in this global movement.\\nLearn about the Sustainable Development Goals.  What’s your Goal?'),\n",
       " Document(metadata={'producer': 'Adobe PDF Library 15.0', 'creator': 'Adobe InDesign CC 13.0 (Macintosh)', 'creationdate': '2017-12-26T16:03:25-05:00', 'moddate': '2017-12-27T15:29:10-05:00', 'trapped': '/False', 'source': 'data/SDG.pdf', 'total_pages': 24, 'page': 3, 'page_label': '4'}, page_content='END EXTREME POVERTY IN ALL FORMS  \\nBY 2030.\\nYes, it’s an ambitious goal—but we believe it can be done. In 2000, the \\nworld committed to halving the number of people living in extreme \\npoverty by the year 2015 and we met this goal. However, more than \\n800 million people around the world still live on less than $1.25 a day—\\nthat’s about the equivalent of the entire population of Europe living in \\nextreme poverty. Now it’s time to build on what we learned and end \\npoverty altogether.'),\n",
       " Document(metadata={'producer': 'Adobe PDF Library 15.0', 'creator': 'Adobe InDesign CC 13.0 (Macintosh)', 'creationdate': '2017-12-26T16:03:25-05:00', 'moddate': '2017-12-27T15:29:10-05:00', 'trapped': '/False', 'source': 'data/SDG.pdf', 'total_pages': 24, 'page': 4, 'page_label': '5'}, page_content='END HUNGER, ACHIEVE FOOD SECURITY \\nAND IMPROVED NUTRITION AND PROMOTE \\nSUSTAINABLE AGRICUL TURE\\nIn the past 20 years, hunger has dropped by almost half. Many \\ncountries that used to suffer from famine and hunger can now \\nmeet the nutritional needs of their most vulnerable people. It’s an \\nincredible accomplishment. Now we can go further and end hunger \\nand malnutrition once and for all. That means doing things such as \\npromoting sustainable agriculture and supporting small farmers. It’s a tall \\norder. But for the sake of the nearly 1 out of every 9 people on earth who \\ngo to bed hungry every night, we’ve got to try. Imagine a world where \\neveryone has access to sufficient and nutritious food all year round. \\nTogether, we can make that a reality by 2030.'),\n",
       " Document(metadata={'producer': 'Adobe PDF Library 15.0', 'creator': 'Adobe InDesign CC 13.0 (Macintosh)', 'creationdate': '2017-12-26T16:03:25-05:00', 'moddate': '2017-12-27T15:29:10-05:00', 'trapped': '/False', 'source': 'data/SDG.pdf', 'total_pages': 24, 'page': 5, 'page_label': '6'}, page_content='ENSURE HEAL THY LIVES AND PROMOTE \\nWELL-BEING FOR ALL AT ALL AGES\\nWe all know how important it is to be in good health. Our health affects \\neverything from how much we enjoy life to what work we can perform. \\nThat’s why there’s a Goal to make sure everyone has health coverage \\nand access to safe and effective medicines and vaccines. In the 25 \\nyears before the SDGs, we made big strides—preventable child deaths \\ndropped by more than half, and maternal mortality went down by \\nalmost as much. And yet some other numbers remain tragically high, like \\nthe fact that 6 million children die every year before their fifth birthday, \\nor that AIDS is the leading cause of death for adolescents in sub-Saharan \\nAfrica. We have the means to turn that around and make good health \\nmore than just a wish.'),\n",
       " Document(metadata={'producer': 'Adobe PDF Library 15.0', 'creator': 'Adobe InDesign CC 13.0 (Macintosh)', 'creationdate': '2017-12-26T16:03:25-05:00', 'moddate': '2017-12-27T15:29:10-05:00', 'trapped': '/False', 'source': 'data/SDG.pdf', 'total_pages': 24, 'page': 6, 'page_label': '7'}, page_content='ENSURE INCLUSIVE AND EQUITABLE QUALITY \\nEDUCATION AND PROMOTE LIFELONG \\nLEARNING OPPORTUNITIES FOR ALL \\nFirst, the bad news on education. Poverty, armed conflict and other \\nemergencies keep many, many kids around the world out of school. In \\nfact, kids from the poorest households are four times more likely to be \\nout of school than those of the richest households. Now for some good \\nnews. Since 2000, there has been enormous progress on the goal to \\nprovide primary education to all children worldwide: the total enrolment \\nrate in developing regions has reached 91%. By measures in any school, \\nthat’s a good grade. Now, let’s get an even better grade for all kids, \\nand achieve the goal of universal primary and secondary education, \\naffordable vocational training, access to higher education and more.'),\n",
       " Document(metadata={'producer': 'Adobe PDF Library 15.0', 'creator': 'Adobe InDesign CC 13.0 (Macintosh)', 'creationdate': '2017-12-26T16:03:25-05:00', 'moddate': '2017-12-27T15:29:10-05:00', 'trapped': '/False', 'source': 'data/SDG.pdf', 'total_pages': 24, 'page': 7, 'page_label': '8'}, page_content='We can celebrate the great progress the world has made in becoming \\nmore prosperous and fair. But there’s a shadow to the celebration. In \\njust about every way, women and girls lag behind. There are still gross \\ninequalities in work and wages, lots of unpaid “women’s work” such as \\nchild care and domestic work, and discrimination in public decision-\\nmaking. But there are grounds for hope. More girls are in school now \\ncompared to in 2000. Most regions have reached gender parity in \\nprimary education. The percentage of women getting paid for their work \\nis on the rise. The Sustainable Development Goals aim to build on these \\nachievements to ensure that there is an end to discrimination against \\nwomen and girls everywhere.\\nACHIEVE GENDER EQUALITY AND \\nEMPOWER ALL WOMEN AND GIRLS'),\n",
       " Document(metadata={'producer': 'Adobe PDF Library 15.0', 'creator': 'Adobe InDesign CC 13.0 (Macintosh)', 'creationdate': '2017-12-26T16:03:25-05:00', 'moddate': '2017-12-27T15:29:10-05:00', 'trapped': '/False', 'source': 'data/SDG.pdf', 'total_pages': 24, 'page': 8, 'page_label': '9'}, page_content='Everyone on earth should have access to safe and affordable drinking \\nwater. That’s the goal for 2030. While many people take clean drinking \\nwater and sanitation for granted, many others don’t. Water scarcity \\naffects more than 40 percent of people around the world, and that \\nnumber is projected to go even higher as a result of climate change. \\nIf we continue the path we’re on, by 2050 at least one in four people \\nare likely to be affected by recurring water shortages. But we can take \\na new path—more international cooperation, protecting wetlands \\nand rivers, sharing water-treatment technologies—that leads to \\naccomplishing this Goal. \\nENSURE AVAILABILITY AND SUSTAINABLE \\nMANAGEMENT OF WATER AND SANITATION \\nFOR ALL'),\n",
       " Document(metadata={'producer': 'Adobe PDF Library 15.0', 'creator': 'Adobe InDesign CC 13.0 (Macintosh)', 'creationdate': '2017-12-26T16:03:25-05:00', 'moddate': '2017-12-27T15:29:10-05:00', 'trapped': '/False', 'source': 'data/SDG.pdf', 'total_pages': 24, 'page': 9, 'page_label': '10'}, page_content='ENSURE ACCESS TO AFFORDABLE, RELIABLE, \\nSUSTAINABLE AND MODERN ENERGY FOR \\nALL \\nBetween 1990 and 2010, the number of people with access to electricity \\nincreased by 1.7 billion. That’s progress to be proud of. And yet as the \\nworld’s population continues to rise, still more people will need cheap \\nenergy to light their homes and streets, use phones and computers, \\nand do their everyday business. How we get that energy is at issue; fossil \\nfuels and greenhouse gas emissions are making drastic changes in the \\nclimate, leading to big problems on every continent. Instead, we can \\nbecome more energy-efficient and invest in clean energy sources such \\nas solar and wind. That way we’ll meet electricity needs and protect the \\nenvironment. How’s that for a balancing act?'),\n",
       " Document(metadata={'producer': 'Adobe PDF Library 15.0', 'creator': 'Adobe InDesign CC 13.0 (Macintosh)', 'creationdate': '2017-12-26T16:03:25-05:00', 'moddate': '2017-12-27T15:29:10-05:00', 'trapped': '/False', 'source': 'data/SDG.pdf', 'total_pages': 24, 'page': 10, 'page_label': '11'}, page_content='PROMOTE SUSTAINED, INCLUSIVE AND \\nSUSTAINABLE ECONOMIC GROWTH, FULL \\nAND PRODUCTIVE EMPLOYMENT AND \\nDECENT WORK FOR ALL \\nAn important part of economic growth is that people have jobs that \\npay enough to support themselves and their families. The good news \\nis that the middle class is growing worldwide—almost tripling in size \\nin developing countries in the last 25 years, to more than a third of the \\npopulation. But today, job growth is not keeping pace with the growing \\nlabour force. Things don’t have to be that way. We can promote policies \\nthat encourage entrepreneurship and job creation. We can eradicate \\nforced labour, slavery and human trafficking. And in the end we can \\nachieve the goal of decent work for all women and men by 2030.'),\n",
       " Document(metadata={'producer': 'Adobe PDF Library 15.0', 'creator': 'Adobe InDesign CC 13.0 (Macintosh)', 'creationdate': '2017-12-26T16:03:25-05:00', 'moddate': '2017-12-27T15:29:10-05:00', 'trapped': '/False', 'source': 'data/SDG.pdf', 'total_pages': 24, 'page': 11, 'page_label': '12'}, page_content='BUILD RESILIENT INFRASTRUCTURE, \\nPROMOTE INCLUSIVE AND SUSTAINABLE \\nINDUSTRIALIZATION AND FOSTER \\nINNOVATION \\nTechnological progress helps us address big global challenges such as \\ncreating jobs and becoming more energy efficient. For example, the \\nworld is becoming ever more interconnected and prosperous thanks to \\nthe internet. The more connected we are, the more we can all benefit \\nfrom the wisdom and contributions of people everywhere on earth.  And \\nyet four billion people have no way of getting online, the vast majority \\nof them in developing countries. The more we invest in innovation \\nand infrastructure, the better off we’ll all be. Bridging the digital divide, \\npromoting sustainable industries, and investing in scientific research and \\ninnovation are all important ways to facilitate sustainable development.'),\n",
       " Document(metadata={'producer': 'Adobe PDF Library 15.0', 'creator': 'Adobe InDesign CC 13.0 (Macintosh)', 'creationdate': '2017-12-26T16:03:25-05:00', 'moddate': '2017-12-27T15:29:10-05:00', 'trapped': '/False', 'source': 'data/SDG.pdf', 'total_pages': 24, 'page': 12, 'page_label': '13'}, page_content='REDUCE INEQUALITY WITHIN AND AMONG \\nCOUNTRIES \\nIt’s an old story: the rich get richer, and the poor get poorer. The divide \\nhas never been starker. We can and must adopt policies that create \\nopportunity for everyone, regardless of who they are or where they \\ncome from. Income inequality is a global problem that requires global \\nsolutions. That means improving the regulation of financial markets \\nand institutions, sending development aid where it is most needed \\nand helping people migrate safely so they can pursue opportunities. \\nTogether, we can now change the direction of the old story of inequality.'),\n",
       " Document(metadata={'producer': 'Adobe PDF Library 15.0', 'creator': 'Adobe InDesign CC 13.0 (Macintosh)', 'creationdate': '2017-12-26T16:03:25-05:00', 'moddate': '2017-12-27T15:29:10-05:00', 'trapped': '/False', 'source': 'data/SDG.pdf', 'total_pages': 24, 'page': 13, 'page_label': '14'}, page_content='MAKE CITIES AND HUMAN SETTLEMENTS \\nINCLUSIVE, SAFE, RESILIENT AND \\nSUSTAINABLE \\nIf you’re like most people, you live in a city. More than half the world’s \\npopulation now lives in cities, and that figure will go to about two-thirds \\nof humanity by the year 2050. Cities are getting bigger. In 1990 there \\nwere ten “mega-cities” with 10 million inhabitants or more. In 2014, there \\nwere 28 mega-cities, home to 453 million people. Incredible, huh? A lot \\nof people love cities; they’re centers of culture and business and life. The \\nthing is, they’re also often centers of extreme poverty. To make cities \\nsustainable for all, we can create good, affordable public housing. We \\ncan upgrade slum settlements. We can invest in public transport, create \\ngreen spaces, and get a broader range of people involved in urban \\nplanning decisions. That way, we can keep the things we love about \\ncities, and change the things we don’t.'),\n",
       " Document(metadata={'producer': 'Adobe PDF Library 15.0', 'creator': 'Adobe InDesign CC 13.0 (Macintosh)', 'creationdate': '2017-12-26T16:03:25-05:00', 'moddate': '2017-12-27T15:29:10-05:00', 'trapped': '/False', 'source': 'data/SDG.pdf', 'total_pages': 24, 'page': 14, 'page_label': '15'}, page_content='ENSURE SUSTAINABLE CONSUMPTION AND \\nPRODUCTION PATTERNS\\nSome people use a lot of stuff, and some people use very little—in fact, \\na big share of the world population is consuming too little to meet even \\ntheir basic needs. Instead, we can have a world where everybody gets \\nwhat they need to survive and thrive. And we can consume in a way \\nthat preserves our natural resources so that our children can enjoy them, \\nand their children and their children after that. The hard part is how to \\nachieve that goal. We can manage our natural resources more efficiently \\nand dispose of toxic waste better. Cut per capita food waste in half \\nglobally. Get businesses and consumers to reduce and recycle waste. \\nAnd help countries that have typically not consumed a lot to move \\ntowards more responsible consumption patterns.'),\n",
       " Document(metadata={'producer': 'Adobe PDF Library 15.0', 'creator': 'Adobe InDesign CC 13.0 (Macintosh)', 'creationdate': '2017-12-26T16:03:25-05:00', 'moddate': '2017-12-27T15:29:10-05:00', 'trapped': '/False', 'source': 'data/SDG.pdf', 'total_pages': 24, 'page': 15, 'page_label': '16'}, page_content='TAKE URGENT ACTION TO COMBAT CLIMATE \\nCHANGE AND ITS IMPACTS\\nEvery country in the world is seeing the drastic effects of climate \\nchange, some more than others. On average, the annual losses just \\nfrom earthquakes, tsunamis, tropical cyclones and flooding count in the \\nhundreds of billions of dollars. We can reduce the loss of life and property \\nby helping more vulnerable regions—such as land-locked countries \\nand island states—become more resilient. It is still possible, with the \\npolitical will and technological measures, to limit the increase in global \\nmean temperature to two degrees Celsius above pre-industrial levels—\\nand thus avoid the worst effects of climate change. The Sustainable \\nDevelopment Goals lay out a way for countries to work together to meet \\nthis urgent challenge.'),\n",
       " Document(metadata={'producer': 'Adobe PDF Library 15.0', 'creator': 'Adobe InDesign CC 13.0 (Macintosh)', 'creationdate': '2017-12-26T16:03:25-05:00', 'moddate': '2017-12-27T15:29:10-05:00', 'trapped': '/False', 'source': 'data/SDG.pdf', 'total_pages': 24, 'page': 16, 'page_label': '17'}, page_content='CONSERVE AND SUSTAINABLY USE THE \\nOCEANS, SEAS AND MARINE RESOURCES \\nFOR SUSTAINABLE DEVELOPMENT\\nThe oceans make human life possible. Their temperature, their chemistry, \\ntheir currents, their life forms. For one thing, more than 3 billion people \\ndepend on marine and coastal diversity for their livelihoods. But today \\nwe are seeing nearly a third of the world’s fish stocks overexploited. \\nThat’s not a sustainable way of life. Even people who live nowhere near \\nthe ocean can’t live without it. Oceans absorb about 30 percent of the \\ncarbon dioxide that humans produce; but we’re producing more carbon \\ndioxide than ever before and that makes the oceans more acidic—26% \\nmore, since the start of the industrial revolution. Our trash doesn’t help \\neither—13,000 pieces of plastic litter on every square kilometer of ocean. \\nSounds bad, right? Don’t despair! The Sustainable Development Goals \\nindicate targets for managing and protecting life below water.'),\n",
       " Document(metadata={'producer': 'Adobe PDF Library 15.0', 'creator': 'Adobe InDesign CC 13.0 (Macintosh)', 'creationdate': '2017-12-26T16:03:25-05:00', 'moddate': '2017-12-27T15:29:10-05:00', 'trapped': '/False', 'source': 'data/SDG.pdf', 'total_pages': 24, 'page': 17, 'page_label': '18'}, page_content='PROTECT, RESTORE AND PROMOTE \\nSUSTAINABLE USE OF TERRESTRIAL \\nECOSYSTEMS, SUSTAINABLY MANAGE \\nFORESTS, COMBAT DESERTIFICATION, AND \\nHAL T AND REVERSE LAND DEGRADATION \\nAND HAL T BIODIVERSITY LOSS \\nHumans and other animals rely on other forms of life on land for food, \\nclean air, clean water, and as a means of combatting climate change. \\nPlant life makes up 80% of the human diet. Forests, which cover 30% \\nof the Earth’s surface, help keep the air and water clean and the Earth’s \\nclimate in balance. That’s not to mention they’re home to millions of \\nanimal species. But the land and life on it are in trouble. Arable land \\nis disappearing 30 to 35 times faster than it has historically. Deserts \\nare spreading. Animal breeds are going extinct. We can turn these \\ntrends around. Fortunately, the Sustainable Development Goals aim to \\nconserve and restore the use of terrestrial ecosystems such as forests, \\nwetlands, drylands and mountains by 2030.'),\n",
       " Document(metadata={'producer': 'Adobe PDF Library 15.0', 'creator': 'Adobe InDesign CC 13.0 (Macintosh)', 'creationdate': '2017-12-26T16:03:25-05:00', 'moddate': '2017-12-27T15:29:10-05:00', 'trapped': '/False', 'source': 'data/SDG.pdf', 'total_pages': 24, 'page': 18, 'page_label': '19'}, page_content='PROMOTE PEACEFUL AND INCLUSIVE \\nSOCIETIES FOR SUSTAINABLE \\nDEVELOPMENT, PROVIDE ACCESS TO \\nJUSTICE FOR ALL AND BUILD EFFECTIVE, \\nACCOUNTABLE AND INCLUSIVE \\nINSTITUTIONS AT ALL LEVELS \\nHow can a country develop—how can people eat and teach and learn \\nand work and raise families—without peace? And how can a country \\nhave peace without justice, without human rights, without government \\nbased on the rule of law? Some parts of the world enjoy relative peace \\nand justice, and may come to take it for granted. Other parts seem to \\nbe plagued by armed conflict, crime, torture and exploitation, all of \\nwhich hinders their development. The goal of peace and justice is one \\nfor all countries to strive towards. The Sustainable Development Goals \\naim to reduce all forms of violence and propose that governments \\nand communities find lasting solutions to conflict and insecurity. That \\nmeans strengthening the rule of law, reducing the flow of illicit arms, \\nand bringing developing countries more into the center of institutions \\nof global governance.'),\n",
       " Document(metadata={'producer': 'Adobe PDF Library 15.0', 'creator': 'Adobe InDesign CC 13.0 (Macintosh)', 'creationdate': '2017-12-26T16:03:25-05:00', 'moddate': '2017-12-27T15:29:10-05:00', 'trapped': '/False', 'source': 'data/SDG.pdf', 'total_pages': 24, 'page': 19, 'page_label': '20'}, page_content='STRENGTHEN THE MEANS OF \\nIMPLEMENTATION AND REVITALIZE THE \\nGLOBAL PARTNERSHIP FOR SUSTAINABLE \\nDEVELOPMENT \\nThe Sustainable Development Goals are pretty big to-do list, don’t you \\nthink? In fact, it’s so big, you may just want to throw your hands up in the \\nair. “Forget it! Can’t be done! Why even try!” But we’ve got a lot going for \\nus. The world is more interconnected today than ever before, thanks to \\nthe internet, travel and global institutions. There’s a growing consensus \\nabout the need to work together to stop climate change. And the \\nSustainable Development Goals are no small matter either. 193 countries \\nagreed on these goals. Pretty incredible, isn’t it? 193 countries agreeing \\non anything? The final goal lays out a way for nations to work together to \\nachieve all the other Goals.'),\n",
       " Document(metadata={'producer': 'Adobe PDF Library 15.0', 'creator': 'Adobe InDesign CC 13.0 (Macintosh)', 'creationdate': '2017-12-26T16:03:25-05:00', 'moddate': '2017-12-27T15:29:10-05:00', 'trapped': '/False', 'source': 'data/SDG.pdf', 'total_pages': 24, 'page': 20, 'page_label': '21'}, page_content='Go shopping \\nMake a donation \\nStart a fundraiser \\nSpread the word \\nVisit shop.undp.org for SDG merchandise, and show off the goals you’re \\nmost passionate about. \\nMoney doesn’t just make the world go around; it’s also the most direct \\nway to reduce and eradicate all forms of poverty.\\nFundraising is a great way to raise money, create awareness, and inspire \\nothers. Plus, it’s fun!\\nSearch for @UNDP on Twitter, Facebook and Instagram, and share the \\ncontent you love.\\nTo donate or learn more about fundraising, visit undp.org/takeaction\\nThere are many ways to show your support and help us reach \\nthe Sustainable Development Goals by 2030. Here are a few :\\nWHA T CAN  \\nI DO TO HELP?'),\n",
       " Document(metadata={'producer': 'Adobe PDF Library 15.0', 'creator': 'Adobe InDesign CC 13.0 (Macintosh)', 'creationdate': '2017-12-26T16:03:25-05:00', 'moddate': '2017-12-27T15:29:10-05:00', 'trapped': '/False', 'source': 'data/SDG.pdf', 'total_pages': 24, 'page': 21, 'page_label': '22'}, page_content='NOTES'),\n",
       " Document(metadata={'producer': 'Adobe PDF Library 15.0', 'creator': 'Adobe InDesign CC 13.0 (Macintosh)', 'creationdate': '2017-12-26T16:03:25-05:00', 'moddate': '2017-12-27T15:29:10-05:00', 'trapped': '/False', 'source': 'data/SDG.pdf', 'total_pages': 24, 'page': 22, 'page_label': '23'}, page_content='NOTES'),\n",
       " Document(metadata={'producer': 'Adobe PDF Library 15.0', 'creator': 'Adobe InDesign CC 13.0 (Macintosh)', 'creationdate': '2017-12-26T16:03:25-05:00', 'moddate': '2017-12-27T15:29:10-05:00', 'trapped': '/False', 'source': 'data/SDG.pdf', 'total_pages': 24, 'page': 23, 'page_label': '24'}, page_content='')]"
      ]
     },
     "execution_count": 9,
     "metadata": {},
     "output_type": "execute_result"
    }
   ],
   "source": [
    "file_path = \"data/SDG.pdf\"\n",
    "loader = PyPDFLoader(file_path)\n",
    "data=loader.load()\n",
    "data\n"
   ]
  },
  {
   "cell_type": "code",
   "execution_count": 10,
   "metadata": {},
   "outputs": [
    {
     "data": {
      "text/plain": [
       "24"
      ]
     },
     "execution_count": 10,
     "metadata": {},
     "output_type": "execute_result"
    }
   ],
   "source": [
    "len(data)"
   ]
  },
  {
   "cell_type": "code",
   "execution_count": 11,
   "metadata": {},
   "outputs": [
    {
     "data": {
      "text/plain": [
       "'IN THE YEAR 2015, LEADERS FROM 193 COUNTRIES OF THE WORLD \\nCAME TOGETHER TO FACE THE FUTURE.\\nAnd what they saw was daunting. Famines. Drought. Wars. Plagues. Poverty. \\nNot just in some faraway place, but in their own cities and towns and villages.\\nThey knew things didn’t have to be this way. They knew we had enough \\nfood to feed the world, but that it wasn’t getting shared. They knew there \\nwere medicines for HIV and other diseases, but they cost a lot. They knew \\nthat earthquakes and floods were inevitable, but that the high death \\ntolls were not. \\nThey also knew that billions of people worldwide shared their hope for a \\nbetter future.\\nSo leaders from these countries created a plan called the Sustainable \\nDevelopment Goals (SDGs). This set of 17 goals imagines a future just 15 years \\noff that would be rid of poverty and hunger, and safe from the worst effects of \\nclimate change. It’s an ambitious plan. \\nBut there’s ample evidence that we can succeed. In the past 15 years, the \\ninternational community cut extreme poverty in half. \\nNow we can finish the job.\\nThe United Nations Development Programme (UNDP) is one of the leading \\norganizations working to fulfil the SDGs by the year 2030. Present in nearly \\n170 countries and territories, we help nations make the Goals a reality. \\nWe also champion the Goals so that people everywhere know how to \\ndo their part. \\nUNDP is proud to continue as a leader in this global movement.\\nLearn about the Sustainable Development Goals.  What’s your Goal?END EXTREME POVERTY IN ALL FORMS  \\nBY 2030.\\nYes, it’s an ambitious goal—but we believe it can be done. In 2000, the \\nworld committed to halving the number of people living in extreme \\npoverty by the year 2015 and we met this goal. However, more than \\n800 million people around the world still live on less than $1.25 a day—\\nthat’s about the equivalent of the entire population of Europe living in \\nextreme poverty. Now it’s time to build on what we learned and end \\npoverty altogether.END HUNGER, ACHIEVE FOOD SECURITY \\nAND IMPROVED NUTRITION AND PROMOTE \\nSUSTAINABLE AGRICUL TURE\\nIn the past 20 years, hunger has dropped by almost half. Many \\ncountries that used to suffer from famine and hunger can now \\nmeet the nutritional needs of their most vulnerable people. It’s an \\nincredible accomplishment. Now we can go further and end hunger \\nand malnutrition once and for all. That means doing things such as \\npromoting sustainable agriculture and supporting small farmers. It’s a tall \\norder. But for the sake of the nearly 1 out of every 9 people on earth who \\ngo to bed hungry every night, we’ve got to try. Imagine a world where \\neveryone has access to sufficient and nutritious food all year round. \\nTogether, we can make that a reality by 2030.ENSURE HEAL THY LIVES AND PROMOTE \\nWELL-BEING FOR ALL AT ALL AGES\\nWe all know how important it is to be in good health. Our health affects \\neverything from how much we enjoy life to what work we can perform. \\nThat’s why there’s a Goal to make sure everyone has health coverage \\nand access to safe and effective medicines and vaccines. In the 25 \\nyears before the SDGs, we made big strides—preventable child deaths \\ndropped by more than half, and maternal mortality went down by \\nalmost as much. And yet some other numbers remain tragically high, like \\nthe fact that 6 million children die every year before their fifth birthday, \\nor that AIDS is the leading cause of death for adolescents in sub-Saharan \\nAfrica. We have the means to turn that around and make good health \\nmore than just a wish.ENSURE INCLUSIVE AND EQUITABLE QUALITY \\nEDUCATION AND PROMOTE LIFELONG \\nLEARNING OPPORTUNITIES FOR ALL \\nFirst, the bad news on education. Poverty, armed conflict and other \\nemergencies keep many, many kids around the world out of school. In \\nfact, kids from the poorest households are four times more likely to be \\nout of school than those of the richest households. Now for some good \\nnews. Since 2000, there has been enormous progress on the goal to \\nprovide primary education to all children worldwide: the total enrolment \\nrate in developing regions has reached 91%. By measures in any school, \\nthat’s a good grade. Now, let’s get an even better grade for all kids, \\nand achieve the goal of universal primary and secondary education, \\naffordable vocational training, access to higher education and more.We can celebrate the great progress the world has made in becoming \\nmore prosperous and fair. But there’s a shadow to the celebration. In \\njust about every way, women and girls lag behind. There are still gross \\ninequalities in work and wages, lots of unpaid “women’s work” such as \\nchild care and domestic work, and discrimination in public decision-\\nmaking. But there are grounds for hope. More girls are in school now \\ncompared to in 2000. Most regions have reached gender parity in \\nprimary education. The percentage of women getting paid for their work \\nis on the rise. The Sustainable Development Goals aim to build on these \\nachievements to ensure that there is an end to discrimination against \\nwomen and girls everywhere.\\nACHIEVE GENDER EQUALITY AND \\nEMPOWER ALL WOMEN AND GIRLSEveryone on earth should have access to safe and affordable drinking \\nwater. That’s the goal for 2030. While many people take clean drinking \\nwater and sanitation for granted, many others don’t. Water scarcity \\naffects more than 40 percent of people around the world, and that \\nnumber is projected to go even higher as a result of climate change. \\nIf we continue the path we’re on, by 2050 at least one in four people \\nare likely to be affected by recurring water shortages. But we can take \\na new path—more international cooperation, protecting wetlands \\nand rivers, sharing water-treatment technologies—that leads to \\naccomplishing this Goal. \\nENSURE AVAILABILITY AND SUSTAINABLE \\nMANAGEMENT OF WATER AND SANITATION \\nFOR ALLENSURE ACCESS TO AFFORDABLE, RELIABLE, \\nSUSTAINABLE AND MODERN ENERGY FOR \\nALL \\nBetween 1990 and 2010, the number of people with access to electricity \\nincreased by 1.7 billion. That’s progress to be proud of. And yet as the \\nworld’s population continues to rise, still more people will need cheap \\nenergy to light their homes and streets, use phones and computers, \\nand do their everyday business. How we get that energy is at issue; fossil \\nfuels and greenhouse gas emissions are making drastic changes in the \\nclimate, leading to big problems on every continent. Instead, we can \\nbecome more energy-efficient and invest in clean energy sources such \\nas solar and wind. That way we’ll meet electricity needs and protect the \\nenvironment. How’s that for a balancing act?PROMOTE SUSTAINED, INCLUSIVE AND \\nSUSTAINABLE ECONOMIC GROWTH, FULL \\nAND PRODUCTIVE EMPLOYMENT AND \\nDECENT WORK FOR ALL \\nAn important part of economic growth is that people have jobs that \\npay enough to support themselves and their families. The good news \\nis that the middle class is growing worldwide—almost tripling in size \\nin developing countries in the last 25 years, to more than a third of the \\npopulation. But today, job growth is not keeping pace with the growing \\nlabour force. Things don’t have to be that way. We can promote policies \\nthat encourage entrepreneurship and job creation. We can eradicate \\nforced labour, slavery and human trafficking. And in the end we can \\nachieve the goal of decent work for all women and men by 2030.BUILD RESILIENT INFRASTRUCTURE, \\nPROMOTE INCLUSIVE AND SUSTAINABLE \\nINDUSTRIALIZATION AND FOSTER \\nINNOVATION \\nTechnological progress helps us address big global challenges such as \\ncreating jobs and becoming more energy efficient. For example, the \\nworld is becoming ever more interconnected and prosperous thanks to \\nthe internet. The more connected we are, the more we can all benefit \\nfrom the wisdom and contributions of people everywhere on earth.  And \\nyet four billion people have no way of getting online, the vast majority \\nof them in developing countries. The more we invest in innovation \\nand infrastructure, the better off we’ll all be. Bridging the digital divide, \\npromoting sustainable industries, and investing in scientific research and \\ninnovation are all important ways to facilitate sustainable development.REDUCE INEQUALITY WITHIN AND AMONG \\nCOUNTRIES \\nIt’s an old story: the rich get richer, and the poor get poorer. The divide \\nhas never been starker. We can and must adopt policies that create \\nopportunity for everyone, regardless of who they are or where they \\ncome from. Income inequality is a global problem that requires global \\nsolutions. That means improving the regulation of financial markets \\nand institutions, sending development aid where it is most needed \\nand helping people migrate safely so they can pursue opportunities. \\nTogether, we can now change the direction of the old story of inequality.MAKE CITIES AND HUMAN SETTLEMENTS \\nINCLUSIVE, SAFE, RESILIENT AND \\nSUSTAINABLE \\nIf you’re like most people, you live in a city. More than half the world’s \\npopulation now lives in cities, and that figure will go to about two-thirds \\nof humanity by the year 2050. Cities are getting bigger. In 1990 there \\nwere ten “mega-cities” with 10 million inhabitants or more. In 2014, there \\nwere 28 mega-cities, home to 453 million people. Incredible, huh? A lot \\nof people love cities; they’re centers of culture and business and life. The \\nthing is, they’re also often centers of extreme poverty. To make cities \\nsustainable for all, we can create good, affordable public housing. We \\ncan upgrade slum settlements. We can invest in public transport, create \\ngreen spaces, and get a broader range of people involved in urban \\nplanning decisions. That way, we can keep the things we love about \\ncities, and change the things we don’t.ENSURE SUSTAINABLE CONSUMPTION AND \\nPRODUCTION PATTERNS\\nSome people use a lot of stuff, and some people use very little—in fact, \\na big share of the world population is consuming too little to meet even \\ntheir basic needs. Instead, we can have a world where everybody gets \\nwhat they need to survive and thrive. And we can consume in a way \\nthat preserves our natural resources so that our children can enjoy them, \\nand their children and their children after that. The hard part is how to \\nachieve that goal. We can manage our natural resources more efficiently \\nand dispose of toxic waste better. Cut per capita food waste in half \\nglobally. Get businesses and consumers to reduce and recycle waste. \\nAnd help countries that have typically not consumed a lot to move \\ntowards more responsible consumption patterns.TAKE URGENT ACTION TO COMBAT CLIMATE \\nCHANGE AND ITS IMPACTS\\nEvery country in the world is seeing the drastic effects of climate \\nchange, some more than others. On average, the annual losses just \\nfrom earthquakes, tsunamis, tropical cyclones and flooding count in the \\nhundreds of billions of dollars. We can reduce the loss of life and property \\nby helping more vulnerable regions—such as land-locked countries \\nand island states—become more resilient. It is still possible, with the \\npolitical will and technological measures, to limit the increase in global \\nmean temperature to two degrees Celsius above pre-industrial levels—\\nand thus avoid the worst effects of climate change. The Sustainable \\nDevelopment Goals lay out a way for countries to work together to meet \\nthis urgent challenge.CONSERVE AND SUSTAINABLY USE THE \\nOCEANS, SEAS AND MARINE RESOURCES \\nFOR SUSTAINABLE DEVELOPMENT\\nThe oceans make human life possible. Their temperature, their chemistry, \\ntheir currents, their life forms. For one thing, more than 3 billion people \\ndepend on marine and coastal diversity for their livelihoods. But today \\nwe are seeing nearly a third of the world’s fish stocks overexploited. \\nThat’s not a sustainable way of life. Even people who live nowhere near \\nthe ocean can’t live without it. Oceans absorb about 30 percent of the \\ncarbon dioxide that humans produce; but we’re producing more carbon \\ndioxide than ever before and that makes the oceans more acidic—26% \\nmore, since the start of the industrial revolution. Our trash doesn’t help \\neither—13,000 pieces of plastic litter on every square kilometer of ocean. \\nSounds bad, right? Don’t despair! The Sustainable Development Goals \\nindicate targets for managing and protecting life below water.PROTECT, RESTORE AND PROMOTE \\nSUSTAINABLE USE OF TERRESTRIAL \\nECOSYSTEMS, SUSTAINABLY MANAGE \\nFORESTS, COMBAT DESERTIFICATION, AND \\nHAL T AND REVERSE LAND DEGRADATION \\nAND HAL T BIODIVERSITY LOSS \\nHumans and other animals rely on other forms of life on land for food, \\nclean air, clean water, and as a means of combatting climate change. \\nPlant life makes up 80% of the human diet. Forests, which cover 30% \\nof the Earth’s surface, help keep the air and water clean and the Earth’s \\nclimate in balance. That’s not to mention they’re home to millions of \\nanimal species. But the land and life on it are in trouble. Arable land \\nis disappearing 30 to 35 times faster than it has historically. Deserts \\nare spreading. Animal breeds are going extinct. We can turn these \\ntrends around. Fortunately, the Sustainable Development Goals aim to \\nconserve and restore the use of terrestrial ecosystems such as forests, \\nwetlands, drylands and mountains by 2030.PROMOTE PEACEFUL AND INCLUSIVE \\nSOCIETIES FOR SUSTAINABLE \\nDEVELOPMENT, PROVIDE ACCESS TO \\nJUSTICE FOR ALL AND BUILD EFFECTIVE, \\nACCOUNTABLE AND INCLUSIVE \\nINSTITUTIONS AT ALL LEVELS \\nHow can a country develop—how can people eat and teach and learn \\nand work and raise families—without peace? And how can a country \\nhave peace without justice, without human rights, without government \\nbased on the rule of law? Some parts of the world enjoy relative peace \\nand justice, and may come to take it for granted. Other parts seem to \\nbe plagued by armed conflict, crime, torture and exploitation, all of \\nwhich hinders their development. The goal of peace and justice is one \\nfor all countries to strive towards. The Sustainable Development Goals \\naim to reduce all forms of violence and propose that governments \\nand communities find lasting solutions to conflict and insecurity. That \\nmeans strengthening the rule of law, reducing the flow of illicit arms, \\nand bringing developing countries more into the center of institutions \\nof global governance.STRENGTHEN THE MEANS OF \\nIMPLEMENTATION AND REVITALIZE THE \\nGLOBAL PARTNERSHIP FOR SUSTAINABLE \\nDEVELOPMENT \\nThe Sustainable Development Goals are pretty big to-do list, don’t you \\nthink? In fact, it’s so big, you may just want to throw your hands up in the \\nair. “Forget it! Can’t be done! Why even try!” But we’ve got a lot going for \\nus. The world is more interconnected today than ever before, thanks to \\nthe internet, travel and global institutions. There’s a growing consensus \\nabout the need to work together to stop climate change. And the \\nSustainable Development Goals are no small matter either. 193 countries \\nagreed on these goals. Pretty incredible, isn’t it? 193 countries agreeing \\non anything? The final goal lays out a way for nations to work together to \\nachieve all the other Goals.Go shopping \\nMake a donation \\nStart a fundraiser \\nSpread the word \\nVisit shop.undp.org for SDG merchandise, and show off the goals you’re \\nmost passionate about. \\nMoney doesn’t just make the world go around; it’s also the most direct \\nway to reduce and eradicate all forms of poverty.\\nFundraising is a great way to raise money, create awareness, and inspire \\nothers. Plus, it’s fun!\\nSearch for @UNDP on Twitter, Facebook and Instagram, and share the \\ncontent you love.\\nTo donate or learn more about fundraising, visit undp.org/takeaction\\nThere are many ways to show your support and help us reach \\nthe Sustainable Development Goals by 2030. Here are a few :\\nWHA T CAN  \\nI DO TO HELP?NOTESNOTES'"
      ]
     },
     "execution_count": 11,
     "metadata": {},
     "output_type": "execute_result"
    }
   ],
   "source": [
    "#load only the page content to one variable\n",
    "question_gen = \"\"\n",
    "for page in data:\n",
    "    question_gen += page.page_content\n",
    "question_gen"
   ]
  },
  {
   "cell_type": "code",
   "execution_count": 12,
   "metadata": {},
   "outputs": [],
   "source": [
    "# create chunks\n",
    "from langchain_text_splitters import TokenTextSplitter\n",
    "from transformers import AutoTokenizer\n",
    "\n",
    "#use llm for the context remember instead of chunk_overlap\n",
    "hf_model = \"mistralai/Mistral-7B-Instruct-v0.1\"\n",
    "tokenizer = AutoTokenizer.from_pretrained(hf_model)\n",
    "\n",
    "splitter_ques_gen = TokenTextSplitter.from_huggingface_tokenizer(\n",
    "    tokenizer,\n",
    "    chunk_size = 10000,\n",
    "    chunk_overlap = 200\n",
    ")\n",
    " "
   ]
  },
  {
   "cell_type": "code",
   "execution_count": 13,
   "metadata": {},
   "outputs": [],
   "source": [
    "chunk_ques_gen = splitter_ques_gen.split_text(question_gen)"
   ]
  },
  {
   "cell_type": "code",
   "execution_count": 14,
   "metadata": {},
   "outputs": [
    {
     "data": {
      "text/plain": [
       "1"
      ]
     },
     "execution_count": 14,
     "metadata": {},
     "output_type": "execute_result"
    }
   ],
   "source": [
    "#only consider all the data to 1 chunk\n",
    "len(chunk_ques_gen)"
   ]
  },
  {
   "cell_type": "code",
   "execution_count": 15,
   "metadata": {},
   "outputs": [],
   "source": [
    "#chunk is a string fromat we need document to work on , string will also work but document format is required way\n",
    "from langchain.docstore.document import Document\n",
    "\n",
    "documet_ques_gen = [Document(page_content = t) for t in chunk_ques_gen]"
   ]
  },
  {
   "cell_type": "code",
   "execution_count": 16,
   "metadata": {},
   "outputs": [
    {
     "data": {
      "text/plain": [
       "langchain_core.documents.base.Document"
      ]
     },
     "execution_count": 16,
     "metadata": {},
     "output_type": "execute_result"
    }
   ],
   "source": [
    "documet_ques_gen\n",
    "type(documet_ques_gen[0])"
   ]
  },
  {
   "cell_type": "code",
   "execution_count": 17,
   "metadata": {},
   "outputs": [],
   "source": [
    "# do the chunking prev was a demo \n",
    "splitter_ans_gen = TokenTextSplitter.from_huggingface_tokenizer(\n",
    "    tokenizer,\n",
    "    chunk_size = 1000,\n",
    "    chunk_overlap = 100\n",
    ")"
   ]
  },
  {
   "cell_type": "code",
   "execution_count": 18,
   "metadata": {},
   "outputs": [],
   "source": [
    "documet_answer_gen = splitter_ans_gen.split_documents(\n",
    "    documet_ques_gen\n",
    ")"
   ]
  },
  {
   "cell_type": "code",
   "execution_count": 19,
   "metadata": {},
   "outputs": [
    {
     "data": {
      "text/plain": [
       "5"
      ]
     },
     "execution_count": 19,
     "metadata": {},
     "output_type": "execute_result"
    }
   ],
   "source": [
    "len(documet_answer_gen)"
   ]
  },
  {
   "cell_type": "code",
   "execution_count": 20,
   "metadata": {},
   "outputs": [
    {
     "name": "stderr",
     "output_type": "stream",
     "text": [
      "C:\\Users\\sanna\\AppData\\Local\\Temp\\ipykernel_8512\\3654105830.py:7: LangChainDeprecationWarning: The class `HuggingFaceEndpoint` was deprecated in LangChain 0.0.37 and will be removed in 1.0. An updated version of the class exists in the :class:`~langchain-huggingface package and should be used instead. To use it run `pip install -U :class:`~langchain-huggingface` and import as `from :class:`~langchain_huggingface import HuggingFaceEndpoint``.\n",
      "  llm = HuggingFaceEndpoint(\n"
     ]
    }
   ],
   "source": [
    "# generate the interview question - Initialise the LLM\n",
    "from langchain.llms import HuggingFaceEndpoint\n",
    "\n",
    "\n",
    "hf_model = \"mistralai/Mistral-7B-Instruct-v0.1\"\n",
    "\n",
    "llm = HuggingFaceEndpoint(\n",
    "    endpoint_url=f\"https://api-inference.huggingface.co/models/{hf_model}\",\n",
    "    huggingfacehub_api_token=HUGGINFACE_API_KEY,\n",
    "    temperature=0.3,  # Controls randomness\n",
    "    model_kwargs={\"max_length\": 512}\n",
    ")"
   ]
  },
  {
   "cell_type": "code",
   "execution_count": 21,
   "metadata": {},
   "outputs": [],
   "source": [
    "prompt_template = \"\"\"\n",
    "You are an expert in Sustainable Development Goals (SDGs) and global sustainability initiatives.  \n",
    "Your goal is to help individuals, students, and professionals deepen their understanding of SDGs  \n",
    "by generating insightful and thought-provoking questions based on the text below:  \n",
    "\n",
    "------------  \n",
    "{text}  \n",
    "------------  \n",
    "\n",
    "Create questions that will enhance understanding and encourage critical thinking about the SDGs.  \n",
    "Ensure that the questions cover key concepts, challenges, and solutions related to sustainable development.  \n",
    "\n",
    "QUESTIONS:\n",
    "\"\"\"\n"
   ]
  },
  {
   "cell_type": "code",
   "execution_count": 22,
   "metadata": {},
   "outputs": [],
   "source": [
    "from langchain.prompts import PromptTemplate \n",
    "\n",
    "PROMPT_QUESTIONS = PromptTemplate(template = prompt_template , input_variables = [\"text\"])"
   ]
  },
  {
   "cell_type": "code",
   "execution_count": 23,
   "metadata": {},
   "outputs": [],
   "source": [
    "# We can use a refine template to make the answer better , its by giving the prev generated questions to a new refined prompt template to check if there is any irrevelant questions avaiable \n",
    "\n",
    "refine_template = (\"\"\"\n",
    "You are an expert in sustainable development and global initiatives.  \n",
    "Your goal is to provide well-informed, accurate, and insightful answers related to the United Nations’ Sustainable Development Goals (SDGs).  \n",
    "\n",
    "We have received an initial answer: {existing_answer}.  \n",
    "We have the option to refine this response or provide additional details if necessary, based on the context below.  \n",
    "\n",
    "------------  \n",
    "{text}  \n",
    "------------  \n",
    "\n",
    "Given the new context, refine or expand the original response in English.  \n",
    "If the context does not add relevant information, please provide the original response.  \n",
    "\n",
    "ANSWER:  \n",
    "\"\"\"\n",
    ")\n"
   ]
  },
  {
   "cell_type": "code",
   "execution_count": 24,
   "metadata": {},
   "outputs": [],
   "source": [
    "REFINE_PROMPT_QUESTIONS = PromptTemplate(\n",
    "    input_variables=[\"existing_answer\", \"text\"],\n",
    "    template=refine_template,\n",
    ")"
   ]
  },
  {
   "cell_type": "code",
   "execution_count": 25,
   "metadata": {},
   "outputs": [],
   "source": [
    "#connect the llm and our prompt_template\n",
    "\n",
    "from langchain.chains.summarize import load_summarize_chain\n",
    "\n",
    "ques_gen_chain =  load_summarize_chain(llm = llm,\n",
    "                                       chain_type = \"refine\",#its a refine prompt\n",
    "                                       verbose = True,\n",
    "                                       question_prompt = PROMPT_QUESTIONS,\n",
    "                                       refine_prompt = REFINE_PROMPT_QUESTIONS)"
   ]
  },
  {
   "cell_type": "code",
   "execution_count": 26,
   "metadata": {},
   "outputs": [
    {
     "name": "stderr",
     "output_type": "stream",
     "text": [
      "C:\\Users\\sanna\\AppData\\Local\\Temp\\ipykernel_8512\\3599558461.py:3: LangChainDeprecationWarning: The method `Chain.run` was deprecated in langchain 0.1.0 and will be removed in 1.0. Use :meth:`~invoke` instead.\n",
      "  ques = ques_gen_chain.run(documet_ques_gen)\n",
      "c:\\Users\\sanna\\conda\\anaconda3\\envs\\interview\\lib\\site-packages\\huggingface_hub\\utils\\_deprecation.py:131: FutureWarning: 'post' (from 'huggingface_hub.inference._client') is deprecated and will be removed from version '0.31.0'. Making direct POST requests to the inference server is not supported anymore. Please use task methods instead (e.g. `InferenceClient.chat_completion`). If your use case is not supported, please open an issue in https://github.com/huggingface/huggingface_hub.\n",
      "  warnings.warn(warning_message, FutureWarning)\n"
     ]
    },
    {
     "name": "stdout",
     "output_type": "stream",
     "text": [
      "\n",
      "\n",
      "\u001b[1m> Entering new RefineDocumentsChain chain...\u001b[0m\n",
      "\n",
      "\n",
      "\u001b[1m> Entering new LLMChain chain...\u001b[0m\n",
      "Prompt after formatting:\n",
      "\u001b[32;1m\u001b[1;3m\n",
      "You are an expert in Sustainable Development Goals (SDGs) and global sustainability initiatives.  \n",
      "Your goal is to help individuals, students, and professionals deepen their understanding of SDGs  \n",
      "by generating insightful and thought-provoking questions based on the text below:  \n",
      "\n",
      "------------  \n",
      "IN THE YEAR 2015, LEADERS FROM 193 COUNTRIES OF THE WORLD \n",
      "CAME TOGETHER TO FACE THE FUTURE.\n",
      "And what they saw was daunting. Famines. Drought. Wars. Plagues. Poverty. \n",
      "Not just in some faraway place, but in their own cities and towns and villages.\n",
      "They knew things didn’t have to be this way. They knew we had enough \n",
      "food to feed the world, but that it wasn’t getting shared. They knew there \n",
      "were medicines for HIV and other diseases, but they cost a lot. They knew \n",
      "that earthquakes and floods were inevitable, but that the high death \n",
      "tolls were not. \n",
      "They also knew that billions of people worldwide shared their hope for a \n",
      "better future.\n",
      "So leaders from these countries created a plan called the Sustainable \n",
      "Development Goals (SDGs). This set of 17 goals imagines a future just 15 years \n",
      "off that would be rid of poverty and hunger, and safe from the worst effects of \n",
      "climate change. It’s an ambitious plan. \n",
      "But there’s ample evidence that we can succeed. In the past 15 years, the \n",
      "international community cut extreme poverty in half. \n",
      "Now we can finish the job.\n",
      "The United Nations Development Programme (UNDP) is one of the leading \n",
      "organizations working to fulfil the SDGs by the year 2030. Present in nearly \n",
      "170 countries and territories, we help nations make the Goals a reality. \n",
      "We also champion the Goals so that people everywhere know how to \n",
      "do their part. \n",
      "UNDP is proud to continue as a leader in this global movement.\n",
      "Learn about the Sustainable Development Goals.  What’s your Goal?END EXTREME POVERTY IN ALL FORMS  \n",
      "BY 2030.\n",
      "Yes, it’s an ambitious goal—but we believe it can be done. In 2000, the \n",
      "world committed to halving the number of people living in extreme \n",
      "poverty by the year 2015 and we met this goal. However, more than \n",
      "800 million people around the world still live on less than $1.25 a day—\n",
      "that’s about the equivalent of the entire population of Europe living in \n",
      "extreme poverty. Now it’s time to build on what we learned and end \n",
      "poverty altogether.END HUNGER, ACHIEVE FOOD SECURITY \n",
      "AND IMPROVED NUTRITION AND PROMOTE \n",
      "SUSTAINABLE AGRICUL TURE\n",
      "In the past 20 years, hunger has dropped by almost half. Many \n",
      "countries that used to suffer from famine and hunger can now \n",
      "meet the nutritional needs of their most vulnerable people. It’s an \n",
      "incredible accomplishment. Now we can go further and end hunger \n",
      "and malnutrition once and for all. That means doing things such as \n",
      "promoting sustainable agriculture and supporting small farmers. It’s a tall \n",
      "order. But for the sake of the nearly 1 out of every 9 people on earth who \n",
      "go to bed hungry every night, we’ve got to try. Imagine a world where \n",
      "everyone has access to sufficient and nutritious food all year round. \n",
      "Together, we can make that a reality by 2030.ENSURE HEAL THY LIVES AND PROMOTE \n",
      "WELL-BEING FOR ALL AT ALL AGES\n",
      "We all know how important it is to be in good health. Our health affects \n",
      "everything from how much we enjoy life to what work we can perform. \n",
      "That’s why there’s a Goal to make sure everyone has health coverage \n",
      "and access to safe and effective medicines and vaccines. In the 25 \n",
      "years before the SDGs, we made big strides—preventable child deaths \n",
      "dropped by more than half, and maternal mortality went down by \n",
      "almost as much. And yet some other numbers remain tragically high, like \n",
      "the fact that 6 million children die every year before their fifth birthday, \n",
      "or that AIDS is the leading cause of death for adolescents in sub-Saharan \n",
      "Africa. We have the means to turn that around and make good health \n",
      "more than just a wish.ENSURE INCLUSIVE AND EQUITABLE QUALITY \n",
      "EDUCATION AND PROMOTE LIFELONG \n",
      "LEARNING OPPORTUNITIES FOR ALL \n",
      "First, the bad news on education. Poverty, armed conflict and other \n",
      "emergencies keep many, many kids around the world out of school. In \n",
      "fact, kids from the poorest households are four times more likely to be \n",
      "out of school than those of the richest households. Now for some good \n",
      "news. Since 2000, there has been enormous progress on the goal to \n",
      "provide primary education to all children worldwide: the total enrolment \n",
      "rate in developing regions has reached 91%. By measures in any school, \n",
      "that’s a good grade. Now, let’s get an even better grade for all kids, \n",
      "and achieve the goal of universal primary and secondary education, \n",
      "affordable vocational training, access to higher education and more.We can celebrate the great progress the world has made in becoming \n",
      "more prosperous and fair. But there’s a shadow to the celebration. In \n",
      "just about every way, women and girls lag behind. There are still gross \n",
      "inequalities in work and wages, lots of unpaid “women’s work” such as \n",
      "child care and domestic work, and discrimination in public decision-\n",
      "making. But there are grounds for hope. More girls are in school now \n",
      "compared to in 2000. Most regions have reached gender parity in \n",
      "primary education. The percentage of women getting paid for their work \n",
      "is on the rise. The Sustainable Development Goals aim to build on these \n",
      "achievements to ensure that there is an end to discrimination against \n",
      "women and girls everywhere.\n",
      "ACHIEVE GENDER EQUALITY AND \n",
      "EMPOWER ALL WOMEN AND GIRLSEveryone on earth should have access to safe and affordable drinking \n",
      "water. That’s the goal for 2030. While many people take clean drinking \n",
      "water and sanitation for granted, many others don’t. Water scarcity \n",
      "affects more than 40 percent of people around the world, and that \n",
      "number is projected to go even higher as a result of climate change. \n",
      "If we continue the path we’re on, by 2050 at least one in four people \n",
      "are likely to be affected by recurring water shortages. But we can take \n",
      "a new path—more international cooperation, protecting wetlands \n",
      "and rivers, sharing water-treatment technologies—that leads to \n",
      "accomplishing this Goal. \n",
      "ENSURE AVAILABILITY AND SUSTAINABLE \n",
      "MANAGEMENT OF WATER AND SANITATION \n",
      "FOR ALLENSURE ACCESS TO AFFORDABLE, RELIABLE, \n",
      "SUSTAINABLE AND MODERN ENERGY FOR \n",
      "ALL \n",
      "Between 1990 and 2010, the number of people with access to electricity \n",
      "increased by 1.7 billion. That’s progress to be proud of. And yet as the \n",
      "world’s population continues to rise, still more people will need cheap \n",
      "energy to light their homes and streets, use phones and computers, \n",
      "and do their everyday business. How we get that energy is at issue; fossil \n",
      "fuels and greenhouse gas emissions are making drastic changes in the \n",
      "climate, leading to big problems on every continent. Instead, we can \n",
      "become more energy-efficient and invest in clean energy sources such \n",
      "as solar and wind. That way we’ll meet electricity needs and protect the \n",
      "environment. How’s that for a balancing act?PROMOTE SUSTAINED, INCLUSIVE AND \n",
      "SUSTAINABLE ECONOMIC GROWTH, FULL \n",
      "AND PRODUCTIVE EMPLOYMENT AND \n",
      "DECENT WORK FOR ALL \n",
      "An important part of economic growth is that people have jobs that \n",
      "pay enough to support themselves and their families. The good news \n",
      "is that the middle class is growing worldwide—almost tripling in size \n",
      "in developing countries in the last 25 years, to more than a third of the \n",
      "population. But today, job growth is not keeping pace with the growing \n",
      "labour force. Things don’t have to be that way. We can promote policies \n",
      "that encourage entrepreneurship and job creation. We can eradicate \n",
      "forced labour, slavery and human trafficking. And in the end we can \n",
      "achieve the goal of decent work for all women and men by 2030.BUILD RESILIENT INFRASTRUCTURE, \n",
      "PROMOTE INCLUSIVE AND SUSTAINABLE \n",
      "INDUSTRIALIZATION AND FOSTER \n",
      "INNOVATION \n",
      "Technological progress helps us address big global challenges such as \n",
      "creating jobs and becoming more energy efficient. For example, the \n",
      "world is becoming ever more interconnected and prosperous thanks to \n",
      "the internet. The more connected we are, the more we can all benefit \n",
      "from the wisdom and contributions of people everywhere on earth.  And \n",
      "yet four billion people have no way of getting online, the vast majority \n",
      "of them in developing countries. The more we invest in innovation \n",
      "and infrastructure, the better off we’ll all be. Bridging the digital divide, \n",
      "promoting sustainable industries, and investing in scientific research and \n",
      "innovation are all important ways to facilitate sustainable development.REDUCE INEQUALITY WITHIN AND AMONG \n",
      "COUNTRIES \n",
      "It’s an old story: the rich get richer, and the poor get poorer. The divide \n",
      "has never been starker. We can and must adopt policies that create \n",
      "opportunity for everyone, regardless of who they are or where they \n",
      "come from. Income inequality is a global problem that requires global \n",
      "solutions. That means improving the regulation of financial markets \n",
      "and institutions, sending development aid where it is most needed \n",
      "and helping people migrate safely so they can pursue opportunities. \n",
      "Together, we can now change the direction of the old story of inequality.MAKE CITIES AND HUMAN SETTLEMENTS \n",
      "INCLUSIVE, SAFE, RESILIENT AND \n",
      "SUSTAINABLE \n",
      "If you’re like most people, you live in a city. More than half the world’s \n",
      "population now lives in cities, and that figure will go to about two-thirds \n",
      "of humanity by the year 2050. Cities are getting bigger. In 1990 there \n",
      "were ten “mega-cities” with 10 million inhabitants or more. In 2014, there \n",
      "were 28 mega-cities, home to 453 million people. Incredible, huh? A lot \n",
      "of people love cities; they’re centers of culture and business and life. The \n",
      "thing is, they’re also often centers of extreme poverty. To make cities \n",
      "sustainable for all, we can create good, affordable public housing. We \n",
      "can upgrade slum settlements. We can invest in public transport, create \n",
      "green spaces, and get a broader range of people involved in urban \n",
      "planning decisions. That way, we can keep the things we love about \n",
      "cities, and change the things we don’t.ENSURE SUSTAINABLE CONSUMPTION AND \n",
      "PRODUCTION PATTERNS\n",
      "Some people use a lot of stuff, and some people use very little—in fact, \n",
      "a big share of the world population is consuming too little to meet even \n",
      "their basic needs. Instead, we can have a world where everybody gets \n",
      "what they need to survive and thrive. And we can consume in a way \n",
      "that preserves our natural resources so that our children can enjoy them, \n",
      "and their children and their children after that. The hard part is how to \n",
      "achieve that goal. We can manage our natural resources more efficiently \n",
      "and dispose of toxic waste better. Cut per capita food waste in half \n",
      "globally. Get businesses and consumers to reduce and recycle waste. \n",
      "And help countries that have typically not consumed a lot to move \n",
      "towards more responsible consumption patterns.TAKE URGENT ACTION TO COMBAT CLIMATE \n",
      "CHANGE AND ITS IMPACTS\n",
      "Every country in the world is seeing the drastic effects of climate \n",
      "change, some more than others. On average, the annual losses just \n",
      "from earthquakes, tsunamis, tropical cyclones and flooding count in the \n",
      "hundreds of billions of dollars. We can reduce the loss of life and property \n",
      "by helping more vulnerable regions—such as land-locked countries \n",
      "and island states—become more resilient. It is still possible, with the \n",
      "political will and technological measures, to limit the increase in global \n",
      "mean temperature to two degrees Celsius above pre-industrial levels—\n",
      "and thus avoid the worst effects of climate change. The Sustainable \n",
      "Development Goals lay out a way for countries to work together to meet \n",
      "this urgent challenge.CONSERVE AND SUSTAINABLY USE THE \n",
      "OCEANS, SEAS AND MARINE RESOURCES \n",
      "FOR SUSTAINABLE DEVELOPMENT\n",
      "The oceans make human life possible. Their temperature, their chemistry, \n",
      "their currents, their life forms. For one thing, more than 3 billion people \n",
      "depend on marine and coastal diversity for their livelihoods. But today \n",
      "we are seeing nearly a third of the world’s fish stocks overexploited. \n",
      "That’s not a sustainable way of life. Even people who live nowhere near \n",
      "the ocean can’t live without it. Oceans absorb about 30 percent of the \n",
      "carbon dioxide that humans produce; but we’re producing more carbon \n",
      "dioxide than ever before and that makes the oceans more acidic—26% \n",
      "more, since the start of the industrial revolution. Our trash doesn’t help \n",
      "either—13,000 pieces of plastic litter on every square kilometer of ocean. \n",
      "Sounds bad, right? Don’t despair! The Sustainable Development Goals \n",
      "indicate targets for managing and protecting life below water.PROTECT, RESTORE AND PROMOTE \n",
      "SUSTAINABLE USE OF TERRESTRIAL \n",
      "ECOSYSTEMS, SUSTAINABLY MANAGE \n",
      "FORESTS, COMBAT DESERTIFICATION, AND \n",
      "HAL T AND REVERSE LAND DEGRADATION \n",
      "AND HAL T BIODIVERSITY LOSS \n",
      "Humans and other animals rely on other forms of life on land for food, \n",
      "clean air, clean water, and as a means of combatting climate change. \n",
      "Plant life makes up 80% of the human diet. Forests, which cover 30% \n",
      "of the Earth’s surface, help keep the air and water clean and the Earth’s \n",
      "climate in balance. That’s not to mention they’re home to millions of \n",
      "animal species. But the land and life on it are in trouble. Arable land \n",
      "is disappearing 30 to 35 times faster than it has historically. Deserts \n",
      "are spreading. Animal breeds are going extinct. We can turn these \n",
      "trends around. Fortunately, the Sustainable Development Goals aim to \n",
      "conserve and restore the use of terrestrial ecosystems such as forests, \n",
      "wetlands, drylands and mountains by 2030.PROMOTE PEACEFUL AND INCLUSIVE \n",
      "SOCIETIES FOR SUSTAINABLE \n",
      "DEVELOPMENT, PROVIDE ACCESS TO \n",
      "JUSTICE FOR ALL AND BUILD EFFECTIVE, \n",
      "ACCOUNTABLE AND INCLUSIVE \n",
      "INSTITUTIONS AT ALL LEVELS \n",
      "How can a country develop—how can people eat and teach and learn \n",
      "and work and raise families—without peace? And how can a country \n",
      "have peace without justice, without human rights, without government \n",
      "based on the rule of law? Some parts of the world enjoy relative peace \n",
      "and justice, and may come to take it for granted. Other parts seem to \n",
      "be plagued by armed conflict, crime, torture and exploitation, all of \n",
      "which hinders their development. The goal of peace and justice is one \n",
      "for all countries to strive towards. The Sustainable Development Goals \n",
      "aim to reduce all forms of violence and propose that governments \n",
      "and communities find lasting solutions to conflict and insecurity. That \n",
      "means strengthening the rule of law, reducing the flow of illicit arms, \n",
      "and bringing developing countries more into the center of institutions \n",
      "of global governance.STRENGTHEN THE MEANS OF \n",
      "IMPLEMENTATION AND REVITALIZE THE \n",
      "GLOBAL PARTNERSHIP FOR SUSTAINABLE \n",
      "DEVELOPMENT \n",
      "The Sustainable Development Goals are pretty big to-do list, don’t you \n",
      "think? In fact, it’s so big, you may just want to throw your hands up in the \n",
      "air. “Forget it! Can’t be done! Why even try!” But we’ve got a lot going for \n",
      "us. The world is more interconnected today than ever before, thanks to \n",
      "the internet, travel and global institutions. There’s a growing consensus \n",
      "about the need to work together to stop climate change. And the \n",
      "Sustainable Development Goals are no small matter either. 193 countries \n",
      "agreed on these goals. Pretty incredible, isn’t it? 193 countries agreeing \n",
      "on anything? The final goal lays out a way for nations to work together to \n",
      "achieve all the other Goals.Go shopping \n",
      "Make a donation \n",
      "Start a fundraiser \n",
      "Spread the word \n",
      "Visit shop.undp.org for SDG merchandise, and show off the goals you’re \n",
      "most passionate about. \n",
      "Money doesn’t just make the world go around; it’s also the most direct \n",
      "way to reduce and eradicate all forms of poverty.\n",
      "Fundraising is a great way to raise money, create awareness, and inspire \n",
      "others. Plus, it’s fun!\n",
      "Search for @UNDP on Twitter, Facebook and Instagram, and share the \n",
      "content you love.\n",
      "To donate or learn more about fundraising, visit undp.org/takeaction\n",
      "There are many ways to show your support and help us reach \n",
      "the Sustainable Development Goals by 2030. Here are a few :\n",
      "WHA T CAN  \n",
      "I DO TO HELP?NOTESNOTES  \n",
      "------------  \n",
      "\n",
      "Create questions that will enhance understanding and encourage critical thinking about the SDGs.  \n",
      "Ensure that the questions cover key concepts, challenges, and solutions related to sustainable development.  \n",
      "\n",
      "QUESTIONS:\n",
      "\u001b[0m\n",
      "\n",
      "\u001b[1m> Finished chain.\u001b[0m\n",
      "\n",
      "\u001b[1m> Finished chain.\u001b[0m\n",
      "\n",
      "1. What are the SDGs and why are they important?\n",
      "2. What are some of the main challenges facing the world today?\n",
      "3. How can we end extreme poverty and hunger?\n",
      "4. What is the importance of good health and well-being for all?\n",
      "5. How can we ensure inclusive and equitable quality education and promote lifelong learning opportunities for all?\n",
      "6. What are some of the key factors that contribute to gender inequality and discrimination against women and girls?\n",
      "7. How can we ensure access to safe and affordable drinking water for all?\n",
      "8. What are some of the key factors that contribute to climate change and how can we address them?\n",
      "9. How can we promote sustained, inclusive, and sustainable economic growth, full and productive employment, and decent work for all?\n",
      "10. What are some of the key factors that contribute to resilient infrastructure, inclusive and sustainable industrialization, and fostering innovation?\n",
      "11. How can we reduce inequality within and among countries?\n",
      "12. What are some of the key factors that contribute to making cities and human settlements inclusive, safe, resilient, and sustainable?\n",
      "13. How can we promote sustainable consumption and production patterns?\n",
      "14. What are some of the key factors that contribute to taking urgent action to combat climate change and its impacts?\n",
      "15. How can we conserve and sustainably use the oceans, seas, and marine resources for sustainable development?\n",
      "16. What are some of the key factors that contribute to protecting, restoring, and promoting sustainable use of terrestrial ecosystems, sustainably managing forests, combatting desertification, halting and reversing land degradation, and halting biodiversity loss?\n",
      "17. How can we promote peaceful and inclusive societies for sustainable development, provide access to justice for all, and build effective, accountable, and inclusive institutions at all levels?\n",
      "18. How can we strengthen the means of implementation and revitalize the global partnership for sustainable development?\n",
      "19. What are some of the key challenges and solutions related to sustainable development?\n",
      "20. How can we ensure that the SDGs are achieved by 2030?\n"
     ]
    }
   ],
   "source": [
    "# now pass the document of chunks to the chain of llm\n",
    "\n",
    "ques = ques_gen_chain.run(documet_ques_gen)\n",
    "\n",
    "print(ques)"
   ]
  },
  {
   "cell_type": "code",
   "execution_count": 34,
   "metadata": {},
   "outputs": [],
   "source": [
    "# now create a embedding model to pass the question genearted for getting the answer generated \n",
    "from langchain_community.embeddings import HuggingFaceInferenceAPIEmbeddings\n",
    "\n",
    "embeddings = HuggingFaceInferenceAPIEmbeddings(\n",
    "    api_key=HUGGINFACE_API_KEY, model_name=\"sentence-transformers/all-MiniLM-L6-v2\"\n",
    ")\n",
    "\n"
   ]
  },
  {
   "cell_type": "code",
   "execution_count": 35,
   "metadata": {},
   "outputs": [
    {
     "name": "stdout",
     "output_type": "stream",
     "text": [
      "384\n",
      "[-0.04814745858311653, 0.04864189028739929, 0.05261829495429993, -0.07543892413377762, -0.016091857105493546]\n"
     ]
    }
   ],
   "source": [
    "test_text = \"What are the key challenges in achieving SDG 13?\"\n",
    "test_embedding = embeddings.embed_query(test_text)\n",
    "\n",
    "print(len(test_embedding))  # Should be a number (e.g., 384 for MiniLM)\n",
    "print(test_embedding[:5]) "
   ]
  },
  {
   "cell_type": "code",
   "execution_count": 36,
   "metadata": {},
   "outputs": [],
   "source": [
    "from langchain_community.vectorstores import FAISS"
   ]
  },
  {
   "cell_type": "code",
   "execution_count": 37,
   "metadata": {},
   "outputs": [],
   "source": [
    "# initiliase the fiass vector store\n",
    "\n",
    "vectore_store = FAISS.from_documents(documet_answer_gen, embeddings)\n"
   ]
  },
  {
   "cell_type": "code",
   "execution_count": 50,
   "metadata": {},
   "outputs": [],
   "source": [
    "#now use Retrival QA chain to pass vector to llm\n",
    "\n",
    "from langchain.chains import RetrievalQA\n",
    "\n",
    "answer_generation_chain = RetrievalQA.from_chain_type(llm=llm,\n",
    "                                                chain_type = \"stuff\",\n",
    "                                                retriever=vectore_store.as_retriever())"
   ]
  },
  {
   "cell_type": "markdown",
   "metadata": {},
   "source": []
  },
  {
   "cell_type": "code",
   "execution_count": 46,
   "metadata": {},
   "outputs": [
    {
     "data": {
      "text/plain": [
       "'\\n1. What are the SDGs and why are they important?\\n2. What are some of the main challenges facing the world today?\\n3. How can we end extreme poverty and hunger?\\n4. What is the importance of good health and well-being for all?\\n5. How can we ensure inclusive and equitable quality education and promote lifelong learning opportunities for all?\\n6. What are some of the key factors that contribute to gender inequality and discrimination against women and girls?\\n7. How can we ensure access to safe and affordable drinking water for all?\\n8. What are some of the key factors that contribute to climate change and how can we address them?\\n9. How can we promote sustained, inclusive, and sustainable economic growth, full and productive employment, and decent work for all?\\n10. What are some of the key factors that contribute to resilient infrastructure, inclusive and sustainable industrialization, and fostering innovation?\\n11. How can we reduce inequality within and among countries?\\n12. What are some of the key factors that contribute to making cities and human settlements inclusive, safe, resilient, and sustainable?\\n13. How can we promote sustainable consumption and production patterns?\\n14. What are some of the key factors that contribute to taking urgent action to combat climate change and its impacts?\\n15. How can we conserve and sustainably use the oceans, seas, and marine resources for sustainable development?\\n16. What are some of the key factors that contribute to protecting, restoring, and promoting sustainable use of terrestrial ecosystems, sustainably managing forests, combatting desertification, halting and reversing land degradation, and halting biodiversity loss?\\n17. How can we promote peaceful and inclusive societies for sustainable development, provide access to justice for all, and build effective, accountable, and inclusive institutions at all levels?\\n18. How can we strengthen the means of implementation and revitalize the global partnership for sustainable development?\\n19. What are some of the key challenges and solutions related to sustainable development?\\n20. How can we ensure that the SDGs are achieved by 2030?'"
      ]
     },
     "execution_count": 46,
     "metadata": {},
     "output_type": "execute_result"
    }
   ],
   "source": [
    "ques"
   ]
  },
  {
   "cell_type": "code",
   "execution_count": 47,
   "metadata": {},
   "outputs": [
    {
     "data": {
      "text/plain": [
       "['',\n",
       " '1. What are the SDGs and why are they important?',\n",
       " '2. What are some of the main challenges facing the world today?',\n",
       " '3. How can we end extreme poverty and hunger?',\n",
       " '4. What is the importance of good health and well-being for all?',\n",
       " '5. How can we ensure inclusive and equitable quality education and promote lifelong learning opportunities for all?',\n",
       " '6. What are some of the key factors that contribute to gender inequality and discrimination against women and girls?',\n",
       " '7. How can we ensure access to safe and affordable drinking water for all?',\n",
       " '8. What are some of the key factors that contribute to climate change and how can we address them?',\n",
       " '9. How can we promote sustained, inclusive, and sustainable economic growth, full and productive employment, and decent work for all?',\n",
       " '10. What are some of the key factors that contribute to resilient infrastructure, inclusive and sustainable industrialization, and fostering innovation?',\n",
       " '11. How can we reduce inequality within and among countries?',\n",
       " '12. What are some of the key factors that contribute to making cities and human settlements inclusive, safe, resilient, and sustainable?',\n",
       " '13. How can we promote sustainable consumption and production patterns?',\n",
       " '14. What are some of the key factors that contribute to taking urgent action to combat climate change and its impacts?',\n",
       " '15. How can we conserve and sustainably use the oceans, seas, and marine resources for sustainable development?',\n",
       " '16. What are some of the key factors that contribute to protecting, restoring, and promoting sustainable use of terrestrial ecosystems, sustainably managing forests, combatting desertification, halting and reversing land degradation, and halting biodiversity loss?',\n",
       " '17. How can we promote peaceful and inclusive societies for sustainable development, provide access to justice for all, and build effective, accountable, and inclusive institutions at all levels?',\n",
       " '18. How can we strengthen the means of implementation and revitalize the global partnership for sustainable development?',\n",
       " '19. What are some of the key challenges and solutions related to sustainable development?',\n",
       " '20. How can we ensure that the SDGs are achieved by 2030?']"
      ]
     },
     "execution_count": 47,
     "metadata": {},
     "output_type": "execute_result"
    }
   ],
   "source": [
    "ques_list = ques.split(\"\\n\")\n",
    "ques_list"
   ]
  },
  {
   "cell_type": "code",
   "execution_count": 51,
   "metadata": {},
   "outputs": [
    {
     "name": "stdout",
     "output_type": "stream",
     "text": [
      "Question:  \n"
     ]
    },
    {
     "name": "stderr",
     "output_type": "stream",
     "text": [
      "c:\\Users\\sanna\\conda\\anaconda3\\envs\\interview\\lib\\site-packages\\huggingface_hub\\utils\\_deprecation.py:131: FutureWarning: 'post' (from 'huggingface_hub.inference._client') is deprecated and will be removed from version '0.31.0'. Making direct POST requests to the inference server is not supported anymore. Please use task methods instead (e.g. `InferenceClient.chat_completion`). If your use case is not supported, please open an issue in https://github.com/huggingface/huggingface_hub.\n",
      "  warnings.warn(warning_message, FutureWarning)\n"
     ]
    },
    {
     "name": "stdout",
     "output_type": "stream",
     "text": [
      "Answer:   \n",
      "\n",
      "The Sustainable Development Goals (SDGs) are a set of 17 goals that were adopted by the United Nations in 2015. These goals aim to end poverty, hunger, and disease, and to promote sustainable development by 2030. The goals are interconnected and require a global partnership to be achieved. To implement the SDGs, the United Nations Development Programme (UNDP) is working with countries to identify and address the challenges they face in achieving the goals. The UNDP is also advocating for increased funding and support for the SDGs, and encouraging individuals and organizations to take action to make a difference.\n",
      "--------------------------------------------------\\n\\n\n",
      "Question:  1. What are the SDGs and why are they important?\n"
     ]
    },
    {
     "name": "stderr",
     "output_type": "stream",
     "text": [
      "c:\\Users\\sanna\\conda\\anaconda3\\envs\\interview\\lib\\site-packages\\huggingface_hub\\utils\\_deprecation.py:131: FutureWarning: 'post' (from 'huggingface_hub.inference._client') is deprecated and will be removed from version '0.31.0'. Making direct POST requests to the inference server is not supported anymore. Please use task methods instead (e.g. `InferenceClient.chat_completion`). If your use case is not supported, please open an issue in https://github.com/huggingface/huggingface_hub.\n",
      "  warnings.warn(warning_message, FutureWarning)\n"
     ]
    },
    {
     "name": "stdout",
     "output_type": "stream",
     "text": [
      "Answer:   The SDGs are a set of 17 goals adopted by the United Nations in 2015 to end poverty, protect the planet and ensure that all people enjoy peace and prosperity. They are important because they provide a universal call to action to end poverty, protect the planet and ensure that all people enjoy peace and prosperity. The goals cover a wide range of issues, from eliminating extreme poverty and hunger to promoting sustainable development, combating climate change and building resilient infrastructure. Achieving the SDGs will require the collective efforts of governments, businesses and civil society, and will require innovative solutions and new ways of thinking.\n",
      "--------------------------------------------------\\n\\n\n",
      "Question:  2. What are some of the main challenges facing the world today?\n"
     ]
    },
    {
     "name": "stderr",
     "output_type": "stream",
     "text": [
      "c:\\Users\\sanna\\conda\\anaconda3\\envs\\interview\\lib\\site-packages\\huggingface_hub\\utils\\_deprecation.py:131: FutureWarning: 'post' (from 'huggingface_hub.inference._client') is deprecated and will be removed from version '0.31.0'. Making direct POST requests to the inference server is not supported anymore. Please use task methods instead (e.g. `InferenceClient.chat_completion`). If your use case is not supported, please open an issue in https://github.com/huggingface/huggingface_hub.\n",
      "  warnings.warn(warning_message, FutureWarning)\n"
     ]
    },
    {
     "name": "stdout",
     "output_type": "stream",
     "text": [
      "Answer:   2. The main challenges facing the world today include poverty, inequality, climate change, and environmental degradation. These challenges are interconnected and require global cooperation and action to address them.\n",
      "--------------------------------------------------\\n\\n\n",
      "Question:  3. How can we end extreme poverty and hunger?\n"
     ]
    },
    {
     "name": "stderr",
     "output_type": "stream",
     "text": [
      "c:\\Users\\sanna\\conda\\anaconda3\\envs\\interview\\lib\\site-packages\\huggingface_hub\\utils\\_deprecation.py:131: FutureWarning: 'post' (from 'huggingface_hub.inference._client') is deprecated and will be removed from version '0.31.0'. Making direct POST requests to the inference server is not supported anymore. Please use task methods instead (e.g. `InferenceClient.chat_completion`). If your use case is not supported, please open an issue in https://github.com/huggingface/huggingface_hub.\n",
      "  warnings.warn(warning_message, FutureWarning)\n"
     ]
    },
    {
     "name": "stdout",
     "output_type": "stream",
     "text": [
      "Answer:   3. To end extreme poverty and hunger, we need to take action in several areas. First, we need to promote sustainable agriculture and support small farmers. This can help increase food production and improve access to nutritious food for people in need. Second, we need to invest in infrastructure and technology to improve food distribution and storage. This can help reduce waste and ensure that food reaches people where it is needed most. Finally, we need to address the root causes of poverty and hunger, such as lack of education, access to healthcare, and economic opportunities. By working together to address these issues, we can create a world where everyone has access to enough food to live healthy and productive lives.\n",
      "--------------------------------------------------\\n\\n\n",
      "Question:  4. What is the importance of good health and well-being for all?\n"
     ]
    },
    {
     "name": "stderr",
     "output_type": "stream",
     "text": [
      "c:\\Users\\sanna\\conda\\anaconda3\\envs\\interview\\lib\\site-packages\\huggingface_hub\\utils\\_deprecation.py:131: FutureWarning: 'post' (from 'huggingface_hub.inference._client') is deprecated and will be removed from version '0.31.0'. Making direct POST requests to the inference server is not supported anymore. Please use task methods instead (e.g. `InferenceClient.chat_completion`). If your use case is not supported, please open an issue in https://github.com/huggingface/huggingface_hub.\n",
      "  warnings.warn(warning_message, FutureWarning)\n"
     ]
    },
    {
     "name": "stdout",
     "output_type": "stream",
     "text": [
      "Answer:   Good health and well-being are essential for human flourishing and happiness. They enable individuals to fully participate in society, pursue their goals, and contribute to the common good. Good health also has economic benefits, as it reduces healthcare costs and increases productivity. Furthermore, good health is a fundamental human right, and promoting it is a moral imperative.\n",
      "--------------------------------------------------\\n\\n\n",
      "Question:  5. How can we ensure inclusive and equitable quality education and promote lifelong learning opportunities for all?\n"
     ]
    },
    {
     "name": "stderr",
     "output_type": "stream",
     "text": [
      "c:\\Users\\sanna\\conda\\anaconda3\\envs\\interview\\lib\\site-packages\\huggingface_hub\\utils\\_deprecation.py:131: FutureWarning: 'post' (from 'huggingface_hub.inference._client') is deprecated and will be removed from version '0.31.0'. Making direct POST requests to the inference server is not supported anymore. Please use task methods instead (e.g. `InferenceClient.chat_completion`). If your use case is not supported, please open an issue in https://github.com/huggingface/huggingface_hub.\n",
      "  warnings.warn(warning_message, FutureWarning)\n"
     ]
    },
    {
     "name": "stdout",
     "output_type": "stream",
     "text": [
      "Answer:   \n",
      "\n",
      "To ensure inclusive and equitable quality education and promote lifelong learning opportunities for all, we need to take several steps. First, we need to ensure that every child has access to primary and secondary education. This means providing free, quality education to all children, regardless of their socioeconomic status or location. We also need to ensure that the education system is inclusive and equitable, meaning that it provides equal opportunities for all students, regardless of their gender, race, religion, or socioeconomic status.\n",
      "\n",
      "Second, we need to promote lifelong learning opportunities for all. This means providing opportunities for people to continue learning throughout their lives, whether it's through formal education, training programs, or other forms of learning. We also need to ensure that these opportunities are accessible and affordable for everyone, regardless of their socioeconomic status or location.\n",
      "\n",
      "Finally, we need to invest in technology and innovation to support education and learning. This means using technology to make education more accessible and efficient, and to provide new forms of learning opportunities. It also means investing in research and development to create new technologies and tools that can support education and learning.\n",
      "\n",
      "Overall, ensuring inclusive and equitable quality education and promoting lifelong learning opportunities for all requires a multi-faceted approach that involves providing access to education, promoting equity and inclusion, and investing in technology and innovation.\n",
      "--------------------------------------------------\\n\\n\n",
      "Question:  6. What are some of the key factors that contribute to gender inequality and discrimination against women and girls?\n"
     ]
    },
    {
     "name": "stderr",
     "output_type": "stream",
     "text": [
      "c:\\Users\\sanna\\conda\\anaconda3\\envs\\interview\\lib\\site-packages\\huggingface_hub\\utils\\_deprecation.py:131: FutureWarning: 'post' (from 'huggingface_hub.inference._client') is deprecated and will be removed from version '0.31.0'. Making direct POST requests to the inference server is not supported anymore. Please use task methods instead (e.g. `InferenceClient.chat_completion`). If your use case is not supported, please open an issue in https://github.com/huggingface/huggingface_hub.\n",
      "  warnings.warn(warning_message, FutureWarning)\n"
     ]
    },
    {
     "name": "stdout",
     "output_type": "stream",
     "text": [
      "Answer:   6. Some of the key factors that contribute to gender inequality and discrimination against women and girls include cultural and social norms that undervalue the role of women, lack of access to education and economic opportunities, unequal distribution of household and caregiving responsibilities, and limited political participation and representation. These factors are often interconnected and reinforce each other, making it difficult for women and girls to achieve equality and full participation in all areas of life.\n",
      "--------------------------------------------------\\n\\n\n",
      "Question:  7. How can we ensure access to safe and affordable drinking water for all?\n"
     ]
    },
    {
     "name": "stderr",
     "output_type": "stream",
     "text": [
      "c:\\Users\\sanna\\conda\\anaconda3\\envs\\interview\\lib\\site-packages\\huggingface_hub\\utils\\_deprecation.py:131: FutureWarning: 'post' (from 'huggingface_hub.inference._client') is deprecated and will be removed from version '0.31.0'. Making direct POST requests to the inference server is not supported anymore. Please use task methods instead (e.g. `InferenceClient.chat_completion`). If your use case is not supported, please open an issue in https://github.com/huggingface/huggingface_hub.\n",
      "  warnings.warn(warning_message, FutureWarning)\n"
     ]
    },
    {
     "name": "stdout",
     "output_type": "stream",
     "text": [
      "Answer:  \n",
      "\n",
      "To ensure access to safe and affordable drinking water for all, we can take the following actions:\n",
      "\n",
      "1. Strengthen the management of water resources: This includes improving water governance, investing in water infrastructure, and promoting sustainable water use.\n",
      "2. Increase water conservation efforts: This includes promoting water-efficient technologies, reducing water waste, and encouraging the adoption of water-saving practices.\n",
      "3. Improve water treatment and sanitation: This includes investing in water treatment facilities, promoting the use of safe sanitation methods, and improving wastewater management.\n",
      "4. Expand water access in underserved areas: This includes investing in infrastructure to bring water to areas that currently lack access, and promoting the use of alternative water sources such as rainwater harvesting.\n",
      "5. Promote water equity and social inclusion: This includes ensuring that marginalized communities have access to safe and affordable drinking water, and addressing issues of water discrimination and inequality.\n",
      "6. Foster international cooperation and partnerships: This includes working with other countries and organizations to share knowledge, resources, and best practices related to water management and conservation.\n",
      "7. Support research and innovation: This includes investing in research and development of new technologies and practices that can improve water access and management.\n",
      "--------------------------------------------------\\n\\n\n",
      "Question:  8. What are some of the key factors that contribute to climate change and how can we address them?\n"
     ]
    },
    {
     "name": "stderr",
     "output_type": "stream",
     "text": [
      "c:\\Users\\sanna\\conda\\anaconda3\\envs\\interview\\lib\\site-packages\\huggingface_hub\\utils\\_deprecation.py:131: FutureWarning: 'post' (from 'huggingface_hub.inference._client') is deprecated and will be removed from version '0.31.0'. Making direct POST requests to the inference server is not supported anymore. Please use task methods instead (e.g. `InferenceClient.chat_completion`). If your use case is not supported, please open an issue in https://github.com/huggingface/huggingface_hub.\n",
      "  warnings.warn(warning_message, FutureWarning)\n"
     ]
    },
    {
     "name": "stdout",
     "output_type": "stream",
     "text": [
      "Answer:   8. Climate change is caused by a variety of factors, including the burning of fossil fuels, deforestation, and industrial processes. To address climate change, we need to reduce greenhouse gas emissions, shift to renewable energy sources, and promote sustainable land use practices. This can be done through policies and actions such as carbon pricing, investing in renewable energy, and promoting reforestation and sustainable agriculture. Additionally, we need to promote international cooperation and collaboration to address climate change on a global scale.\n",
      "--------------------------------------------------\\n\\n\n",
      "Question:  9. How can we promote sustained, inclusive, and sustainable economic growth, full and productive employment, and decent work for all?\n"
     ]
    },
    {
     "name": "stderr",
     "output_type": "stream",
     "text": [
      "c:\\Users\\sanna\\conda\\anaconda3\\envs\\interview\\lib\\site-packages\\huggingface_hub\\utils\\_deprecation.py:131: FutureWarning: 'post' (from 'huggingface_hub.inference._client') is deprecated and will be removed from version '0.31.0'. Making direct POST requests to the inference server is not supported anymore. Please use task methods instead (e.g. `InferenceClient.chat_completion`). If your use case is not supported, please open an issue in https://github.com/huggingface/huggingface_hub.\n",
      "  warnings.warn(warning_message, FutureWarning)\n"
     ]
    },
    {
     "name": "stdout",
     "output_type": "stream",
     "text": [
      "Answer:   We can promote policies that encourage entrepreneurship and job creation. We can eradicate forced labour, slavery and human trafficking. And in the end we can achieve the goal of decent work for all women and men by 2030.\n",
      "--------------------------------------------------\\n\\n\n",
      "Question:  10. What are some of the key factors that contribute to resilient infrastructure, inclusive and sustainable industrialization, and fostering innovation?\n"
     ]
    },
    {
     "ename": "KeyboardInterrupt",
     "evalue": "",
     "output_type": "error",
     "traceback": [
      "\u001b[1;31m---------------------------------------------------------------------------\u001b[0m",
      "\u001b[1;31mKeyboardInterrupt\u001b[0m                         Traceback (most recent call last)",
      "Cell \u001b[1;32mIn[51], line 4\u001b[0m\n\u001b[0;32m      2\u001b[0m \u001b[38;5;28;01mfor\u001b[39;00m question \u001b[38;5;129;01min\u001b[39;00m ques_list:\n\u001b[0;32m      3\u001b[0m     \u001b[38;5;28mprint\u001b[39m(\u001b[38;5;124m\"\u001b[39m\u001b[38;5;124mQuestion: \u001b[39m\u001b[38;5;124m\"\u001b[39m, question)\n\u001b[1;32m----> 4\u001b[0m     answer \u001b[38;5;241m=\u001b[39m \u001b[43manswer_generation_chain\u001b[49m\u001b[38;5;241;43m.\u001b[39;49m\u001b[43mrun\u001b[49m\u001b[43m(\u001b[49m\u001b[43mquestion\u001b[49m\u001b[43m)\u001b[49m\n\u001b[0;32m      5\u001b[0m     \u001b[38;5;28mprint\u001b[39m(\u001b[38;5;124m\"\u001b[39m\u001b[38;5;124mAnswer: \u001b[39m\u001b[38;5;124m\"\u001b[39m, answer)\n\u001b[0;32m      6\u001b[0m     \u001b[38;5;28mprint\u001b[39m(\u001b[38;5;124m\"\u001b[39m\u001b[38;5;124m--------------------------------------------------\u001b[39m\u001b[38;5;130;01m\\\\\u001b[39;00m\u001b[38;5;124mn\u001b[39m\u001b[38;5;130;01m\\\\\u001b[39;00m\u001b[38;5;124mn\u001b[39m\u001b[38;5;124m\"\u001b[39m)\n",
      "File \u001b[1;32mc:\\Users\\sanna\\conda\\anaconda3\\envs\\interview\\lib\\site-packages\\langchain_core\\_api\\deprecation.py:181\u001b[0m, in \u001b[0;36mdeprecated.<locals>.deprecate.<locals>.warning_emitting_wrapper\u001b[1;34m(*args, **kwargs)\u001b[0m\n\u001b[0;32m    179\u001b[0m     warned \u001b[38;5;241m=\u001b[39m \u001b[38;5;28;01mTrue\u001b[39;00m\n\u001b[0;32m    180\u001b[0m     emit_warning()\n\u001b[1;32m--> 181\u001b[0m \u001b[38;5;28;01mreturn\u001b[39;00m wrapped(\u001b[38;5;241m*\u001b[39margs, \u001b[38;5;241m*\u001b[39m\u001b[38;5;241m*\u001b[39mkwargs)\n",
      "File \u001b[1;32mc:\\Users\\sanna\\conda\\anaconda3\\envs\\interview\\lib\\site-packages\\langchain\\chains\\base.py:606\u001b[0m, in \u001b[0;36mChain.run\u001b[1;34m(self, callbacks, tags, metadata, *args, **kwargs)\u001b[0m\n\u001b[0;32m    604\u001b[0m     \u001b[38;5;28;01mif\u001b[39;00m \u001b[38;5;28mlen\u001b[39m(args) \u001b[38;5;241m!=\u001b[39m \u001b[38;5;241m1\u001b[39m:\n\u001b[0;32m    605\u001b[0m         \u001b[38;5;28;01mraise\u001b[39;00m \u001b[38;5;167;01mValueError\u001b[39;00m(\u001b[38;5;124m\"\u001b[39m\u001b[38;5;124m`run` supports only one positional argument.\u001b[39m\u001b[38;5;124m\"\u001b[39m)\n\u001b[1;32m--> 606\u001b[0m     \u001b[38;5;28;01mreturn\u001b[39;00m \u001b[38;5;28;43mself\u001b[39;49m\u001b[43m(\u001b[49m\u001b[43margs\u001b[49m\u001b[43m[\u001b[49m\u001b[38;5;241;43m0\u001b[39;49m\u001b[43m]\u001b[49m\u001b[43m,\u001b[49m\u001b[43m \u001b[49m\u001b[43mcallbacks\u001b[49m\u001b[38;5;241;43m=\u001b[39;49m\u001b[43mcallbacks\u001b[49m\u001b[43m,\u001b[49m\u001b[43m \u001b[49m\u001b[43mtags\u001b[49m\u001b[38;5;241;43m=\u001b[39;49m\u001b[43mtags\u001b[49m\u001b[43m,\u001b[49m\u001b[43m \u001b[49m\u001b[43mmetadata\u001b[49m\u001b[38;5;241;43m=\u001b[39;49m\u001b[43mmetadata\u001b[49m\u001b[43m)\u001b[49m[\n\u001b[0;32m    607\u001b[0m         _output_key\n\u001b[0;32m    608\u001b[0m     ]\n\u001b[0;32m    610\u001b[0m \u001b[38;5;28;01mif\u001b[39;00m kwargs \u001b[38;5;129;01mand\u001b[39;00m \u001b[38;5;129;01mnot\u001b[39;00m args:\n\u001b[0;32m    611\u001b[0m     \u001b[38;5;28;01mreturn\u001b[39;00m \u001b[38;5;28mself\u001b[39m(kwargs, callbacks\u001b[38;5;241m=\u001b[39mcallbacks, tags\u001b[38;5;241m=\u001b[39mtags, metadata\u001b[38;5;241m=\u001b[39mmetadata)[\n\u001b[0;32m    612\u001b[0m         _output_key\n\u001b[0;32m    613\u001b[0m     ]\n",
      "File \u001b[1;32mc:\\Users\\sanna\\conda\\anaconda3\\envs\\interview\\lib\\site-packages\\langchain_core\\_api\\deprecation.py:181\u001b[0m, in \u001b[0;36mdeprecated.<locals>.deprecate.<locals>.warning_emitting_wrapper\u001b[1;34m(*args, **kwargs)\u001b[0m\n\u001b[0;32m    179\u001b[0m     warned \u001b[38;5;241m=\u001b[39m \u001b[38;5;28;01mTrue\u001b[39;00m\n\u001b[0;32m    180\u001b[0m     emit_warning()\n\u001b[1;32m--> 181\u001b[0m \u001b[38;5;28;01mreturn\u001b[39;00m wrapped(\u001b[38;5;241m*\u001b[39margs, \u001b[38;5;241m*\u001b[39m\u001b[38;5;241m*\u001b[39mkwargs)\n",
      "File \u001b[1;32mc:\\Users\\sanna\\conda\\anaconda3\\envs\\interview\\lib\\site-packages\\langchain\\chains\\base.py:389\u001b[0m, in \u001b[0;36mChain.__call__\u001b[1;34m(self, inputs, return_only_outputs, callbacks, tags, metadata, run_name, include_run_info)\u001b[0m\n\u001b[0;32m    357\u001b[0m \u001b[38;5;250m\u001b[39m\u001b[38;5;124;03m\"\"\"Execute the chain.\u001b[39;00m\n\u001b[0;32m    358\u001b[0m \n\u001b[0;32m    359\u001b[0m \u001b[38;5;124;03mArgs:\u001b[39;00m\n\u001b[1;32m   (...)\u001b[0m\n\u001b[0;32m    380\u001b[0m \u001b[38;5;124;03m        `Chain.output_keys`.\u001b[39;00m\n\u001b[0;32m    381\u001b[0m \u001b[38;5;124;03m\"\"\"\u001b[39;00m\n\u001b[0;32m    382\u001b[0m config \u001b[38;5;241m=\u001b[39m {\n\u001b[0;32m    383\u001b[0m     \u001b[38;5;124m\"\u001b[39m\u001b[38;5;124mcallbacks\u001b[39m\u001b[38;5;124m\"\u001b[39m: callbacks,\n\u001b[0;32m    384\u001b[0m     \u001b[38;5;124m\"\u001b[39m\u001b[38;5;124mtags\u001b[39m\u001b[38;5;124m\"\u001b[39m: tags,\n\u001b[0;32m    385\u001b[0m     \u001b[38;5;124m\"\u001b[39m\u001b[38;5;124mmetadata\u001b[39m\u001b[38;5;124m\"\u001b[39m: metadata,\n\u001b[0;32m    386\u001b[0m     \u001b[38;5;124m\"\u001b[39m\u001b[38;5;124mrun_name\u001b[39m\u001b[38;5;124m\"\u001b[39m: run_name,\n\u001b[0;32m    387\u001b[0m }\n\u001b[1;32m--> 389\u001b[0m \u001b[38;5;28;01mreturn\u001b[39;00m \u001b[38;5;28;43mself\u001b[39;49m\u001b[38;5;241;43m.\u001b[39;49m\u001b[43minvoke\u001b[49m\u001b[43m(\u001b[49m\n\u001b[0;32m    390\u001b[0m \u001b[43m    \u001b[49m\u001b[43minputs\u001b[49m\u001b[43m,\u001b[49m\n\u001b[0;32m    391\u001b[0m \u001b[43m    \u001b[49m\u001b[43mcast\u001b[49m\u001b[43m(\u001b[49m\u001b[43mRunnableConfig\u001b[49m\u001b[43m,\u001b[49m\u001b[43m \u001b[49m\u001b[43m{\u001b[49m\u001b[43mk\u001b[49m\u001b[43m:\u001b[49m\u001b[43m \u001b[49m\u001b[43mv\u001b[49m\u001b[43m \u001b[49m\u001b[38;5;28;43;01mfor\u001b[39;49;00m\u001b[43m \u001b[49m\u001b[43mk\u001b[49m\u001b[43m,\u001b[49m\u001b[43m \u001b[49m\u001b[43mv\u001b[49m\u001b[43m \u001b[49m\u001b[38;5;129;43;01min\u001b[39;49;00m\u001b[43m \u001b[49m\u001b[43mconfig\u001b[49m\u001b[38;5;241;43m.\u001b[39;49m\u001b[43mitems\u001b[49m\u001b[43m(\u001b[49m\u001b[43m)\u001b[49m\u001b[43m \u001b[49m\u001b[38;5;28;43;01mif\u001b[39;49;00m\u001b[43m \u001b[49m\u001b[43mv\u001b[49m\u001b[43m \u001b[49m\u001b[38;5;129;43;01mis\u001b[39;49;00m\u001b[43m \u001b[49m\u001b[38;5;129;43;01mnot\u001b[39;49;00m\u001b[43m \u001b[49m\u001b[38;5;28;43;01mNone\u001b[39;49;00m\u001b[43m}\u001b[49m\u001b[43m)\u001b[49m\u001b[43m,\u001b[49m\n\u001b[0;32m    392\u001b[0m \u001b[43m    \u001b[49m\u001b[43mreturn_only_outputs\u001b[49m\u001b[38;5;241;43m=\u001b[39;49m\u001b[43mreturn_only_outputs\u001b[49m\u001b[43m,\u001b[49m\n\u001b[0;32m    393\u001b[0m \u001b[43m    \u001b[49m\u001b[43minclude_run_info\u001b[49m\u001b[38;5;241;43m=\u001b[39;49m\u001b[43minclude_run_info\u001b[49m\u001b[43m,\u001b[49m\n\u001b[0;32m    394\u001b[0m \u001b[43m\u001b[49m\u001b[43m)\u001b[49m\n",
      "File \u001b[1;32mc:\\Users\\sanna\\conda\\anaconda3\\envs\\interview\\lib\\site-packages\\langchain\\chains\\base.py:170\u001b[0m, in \u001b[0;36mChain.invoke\u001b[1;34m(self, input, config, **kwargs)\u001b[0m\n\u001b[0;32m    168\u001b[0m \u001b[38;5;28;01mexcept\u001b[39;00m \u001b[38;5;167;01mBaseException\u001b[39;00m \u001b[38;5;28;01mas\u001b[39;00m e:\n\u001b[0;32m    169\u001b[0m     run_manager\u001b[38;5;241m.\u001b[39mon_chain_error(e)\n\u001b[1;32m--> 170\u001b[0m     \u001b[38;5;28;01mraise\u001b[39;00m e\n\u001b[0;32m    171\u001b[0m run_manager\u001b[38;5;241m.\u001b[39mon_chain_end(outputs)\n\u001b[0;32m    173\u001b[0m \u001b[38;5;28;01mif\u001b[39;00m include_run_info:\n",
      "File \u001b[1;32mc:\\Users\\sanna\\conda\\anaconda3\\envs\\interview\\lib\\site-packages\\langchain\\chains\\base.py:160\u001b[0m, in \u001b[0;36mChain.invoke\u001b[1;34m(self, input, config, **kwargs)\u001b[0m\n\u001b[0;32m    157\u001b[0m \u001b[38;5;28;01mtry\u001b[39;00m:\n\u001b[0;32m    158\u001b[0m     \u001b[38;5;28mself\u001b[39m\u001b[38;5;241m.\u001b[39m_validate_inputs(inputs)\n\u001b[0;32m    159\u001b[0m     outputs \u001b[38;5;241m=\u001b[39m (\n\u001b[1;32m--> 160\u001b[0m         \u001b[38;5;28;43mself\u001b[39;49m\u001b[38;5;241;43m.\u001b[39;49m\u001b[43m_call\u001b[49m\u001b[43m(\u001b[49m\u001b[43minputs\u001b[49m\u001b[43m,\u001b[49m\u001b[43m \u001b[49m\u001b[43mrun_manager\u001b[49m\u001b[38;5;241;43m=\u001b[39;49m\u001b[43mrun_manager\u001b[49m\u001b[43m)\u001b[49m\n\u001b[0;32m    161\u001b[0m         \u001b[38;5;28;01mif\u001b[39;00m new_arg_supported\n\u001b[0;32m    162\u001b[0m         \u001b[38;5;28;01melse\u001b[39;00m \u001b[38;5;28mself\u001b[39m\u001b[38;5;241m.\u001b[39m_call(inputs)\n\u001b[0;32m    163\u001b[0m     )\n\u001b[0;32m    165\u001b[0m     final_outputs: Dict[\u001b[38;5;28mstr\u001b[39m, Any] \u001b[38;5;241m=\u001b[39m \u001b[38;5;28mself\u001b[39m\u001b[38;5;241m.\u001b[39mprep_outputs(\n\u001b[0;32m    166\u001b[0m         inputs, outputs, return_only_outputs\n\u001b[0;32m    167\u001b[0m     )\n\u001b[0;32m    168\u001b[0m \u001b[38;5;28;01mexcept\u001b[39;00m \u001b[38;5;167;01mBaseException\u001b[39;00m \u001b[38;5;28;01mas\u001b[39;00m e:\n",
      "File \u001b[1;32mc:\\Users\\sanna\\conda\\anaconda3\\envs\\interview\\lib\\site-packages\\langchain\\chains\\retrieval_qa\\base.py:151\u001b[0m, in \u001b[0;36mBaseRetrievalQA._call\u001b[1;34m(self, inputs, run_manager)\u001b[0m\n\u001b[0;32m    147\u001b[0m accepts_run_manager \u001b[38;5;241m=\u001b[39m (\n\u001b[0;32m    148\u001b[0m     \u001b[38;5;124m\"\u001b[39m\u001b[38;5;124mrun_manager\u001b[39m\u001b[38;5;124m\"\u001b[39m \u001b[38;5;129;01min\u001b[39;00m inspect\u001b[38;5;241m.\u001b[39msignature(\u001b[38;5;28mself\u001b[39m\u001b[38;5;241m.\u001b[39m_get_docs)\u001b[38;5;241m.\u001b[39mparameters\n\u001b[0;32m    149\u001b[0m )\n\u001b[0;32m    150\u001b[0m \u001b[38;5;28;01mif\u001b[39;00m accepts_run_manager:\n\u001b[1;32m--> 151\u001b[0m     docs \u001b[38;5;241m=\u001b[39m \u001b[38;5;28;43mself\u001b[39;49m\u001b[38;5;241;43m.\u001b[39;49m\u001b[43m_get_docs\u001b[49m\u001b[43m(\u001b[49m\u001b[43mquestion\u001b[49m\u001b[43m,\u001b[49m\u001b[43m \u001b[49m\u001b[43mrun_manager\u001b[49m\u001b[38;5;241;43m=\u001b[39;49m\u001b[43m_run_manager\u001b[49m\u001b[43m)\u001b[49m\n\u001b[0;32m    152\u001b[0m \u001b[38;5;28;01melse\u001b[39;00m:\n\u001b[0;32m    153\u001b[0m     docs \u001b[38;5;241m=\u001b[39m \u001b[38;5;28mself\u001b[39m\u001b[38;5;241m.\u001b[39m_get_docs(question)  \u001b[38;5;66;03m# type: ignore[call-arg]\u001b[39;00m\n",
      "File \u001b[1;32mc:\\Users\\sanna\\conda\\anaconda3\\envs\\interview\\lib\\site-packages\\langchain\\chains\\retrieval_qa\\base.py:271\u001b[0m, in \u001b[0;36mRetrievalQA._get_docs\u001b[1;34m(self, question, run_manager)\u001b[0m\n\u001b[0;32m    264\u001b[0m \u001b[38;5;28;01mdef\u001b[39;00m\u001b[38;5;250m \u001b[39m\u001b[38;5;21m_get_docs\u001b[39m(\n\u001b[0;32m    265\u001b[0m     \u001b[38;5;28mself\u001b[39m,\n\u001b[0;32m    266\u001b[0m     question: \u001b[38;5;28mstr\u001b[39m,\n\u001b[0;32m    267\u001b[0m     \u001b[38;5;241m*\u001b[39m,\n\u001b[0;32m    268\u001b[0m     run_manager: CallbackManagerForChainRun,\n\u001b[0;32m    269\u001b[0m ) \u001b[38;5;241m-\u001b[39m\u001b[38;5;241m>\u001b[39m List[Document]:\n\u001b[0;32m    270\u001b[0m \u001b[38;5;250m    \u001b[39m\u001b[38;5;124;03m\"\"\"Get docs.\"\"\"\u001b[39;00m\n\u001b[1;32m--> 271\u001b[0m     \u001b[38;5;28;01mreturn\u001b[39;00m \u001b[38;5;28;43mself\u001b[39;49m\u001b[38;5;241;43m.\u001b[39;49m\u001b[43mretriever\u001b[49m\u001b[38;5;241;43m.\u001b[39;49m\u001b[43minvoke\u001b[49m\u001b[43m(\u001b[49m\n\u001b[0;32m    272\u001b[0m \u001b[43m        \u001b[49m\u001b[43mquestion\u001b[49m\u001b[43m,\u001b[49m\u001b[43m \u001b[49m\u001b[43mconfig\u001b[49m\u001b[38;5;241;43m=\u001b[39;49m\u001b[43m{\u001b[49m\u001b[38;5;124;43m\"\u001b[39;49m\u001b[38;5;124;43mcallbacks\u001b[39;49m\u001b[38;5;124;43m\"\u001b[39;49m\u001b[43m:\u001b[49m\u001b[43m \u001b[49m\u001b[43mrun_manager\u001b[49m\u001b[38;5;241;43m.\u001b[39;49m\u001b[43mget_child\u001b[49m\u001b[43m(\u001b[49m\u001b[43m)\u001b[49m\u001b[43m}\u001b[49m\n\u001b[0;32m    273\u001b[0m \u001b[43m    \u001b[49m\u001b[43m)\u001b[49m\n",
      "File \u001b[1;32mc:\\Users\\sanna\\conda\\anaconda3\\envs\\interview\\lib\\site-packages\\langchain_core\\retrievers.py:259\u001b[0m, in \u001b[0;36mBaseRetriever.invoke\u001b[1;34m(self, input, config, **kwargs)\u001b[0m\n\u001b[0;32m    257\u001b[0m _kwargs \u001b[38;5;241m=\u001b[39m kwargs \u001b[38;5;28;01mif\u001b[39;00m \u001b[38;5;28mself\u001b[39m\u001b[38;5;241m.\u001b[39m_expects_other_args \u001b[38;5;28;01melse\u001b[39;00m {}\n\u001b[0;32m    258\u001b[0m \u001b[38;5;28;01mif\u001b[39;00m \u001b[38;5;28mself\u001b[39m\u001b[38;5;241m.\u001b[39m_new_arg_supported:\n\u001b[1;32m--> 259\u001b[0m     result \u001b[38;5;241m=\u001b[39m \u001b[38;5;28mself\u001b[39m\u001b[38;5;241m.\u001b[39m_get_relevant_documents(\n\u001b[0;32m    260\u001b[0m         \u001b[38;5;28minput\u001b[39m, run_manager\u001b[38;5;241m=\u001b[39mrun_manager, \u001b[38;5;241m*\u001b[39m\u001b[38;5;241m*\u001b[39m_kwargs\n\u001b[0;32m    261\u001b[0m     )\n\u001b[0;32m    262\u001b[0m \u001b[38;5;28;01melse\u001b[39;00m:\n\u001b[0;32m    263\u001b[0m     result \u001b[38;5;241m=\u001b[39m \u001b[38;5;28mself\u001b[39m\u001b[38;5;241m.\u001b[39m_get_relevant_documents(\u001b[38;5;28minput\u001b[39m, \u001b[38;5;241m*\u001b[39m\u001b[38;5;241m*\u001b[39m_kwargs)\n",
      "File \u001b[1;32mc:\\Users\\sanna\\conda\\anaconda3\\envs\\interview\\lib\\site-packages\\langchain_core\\vectorstores\\base.py:1074\u001b[0m, in \u001b[0;36mVectorStoreRetriever._get_relevant_documents\u001b[1;34m(self, query, run_manager, **kwargs)\u001b[0m\n\u001b[0;32m   1072\u001b[0m _kwargs \u001b[38;5;241m=\u001b[39m \u001b[38;5;28mself\u001b[39m\u001b[38;5;241m.\u001b[39msearch_kwargs \u001b[38;5;241m|\u001b[39m kwargs\n\u001b[0;32m   1073\u001b[0m \u001b[38;5;28;01mif\u001b[39;00m \u001b[38;5;28mself\u001b[39m\u001b[38;5;241m.\u001b[39msearch_type \u001b[38;5;241m==\u001b[39m \u001b[38;5;124m\"\u001b[39m\u001b[38;5;124msimilarity\u001b[39m\u001b[38;5;124m\"\u001b[39m:\n\u001b[1;32m-> 1074\u001b[0m     docs \u001b[38;5;241m=\u001b[39m \u001b[38;5;28mself\u001b[39m\u001b[38;5;241m.\u001b[39mvectorstore\u001b[38;5;241m.\u001b[39msimilarity_search(query, \u001b[38;5;241m*\u001b[39m\u001b[38;5;241m*\u001b[39m_kwargs)\n\u001b[0;32m   1075\u001b[0m \u001b[38;5;28;01melif\u001b[39;00m \u001b[38;5;28mself\u001b[39m\u001b[38;5;241m.\u001b[39msearch_type \u001b[38;5;241m==\u001b[39m \u001b[38;5;124m\"\u001b[39m\u001b[38;5;124msimilarity_score_threshold\u001b[39m\u001b[38;5;124m\"\u001b[39m:\n\u001b[0;32m   1076\u001b[0m     docs_and_similarities \u001b[38;5;241m=\u001b[39m (\n\u001b[0;32m   1077\u001b[0m         \u001b[38;5;28mself\u001b[39m\u001b[38;5;241m.\u001b[39mvectorstore\u001b[38;5;241m.\u001b[39msimilarity_search_with_relevance_scores(\n\u001b[0;32m   1078\u001b[0m             query, \u001b[38;5;241m*\u001b[39m\u001b[38;5;241m*\u001b[39m_kwargs\n\u001b[0;32m   1079\u001b[0m         )\n\u001b[0;32m   1080\u001b[0m     )\n",
      "File \u001b[1;32mc:\\Users\\sanna\\conda\\anaconda3\\envs\\interview\\lib\\site-packages\\langchain_community\\vectorstores\\faiss.py:643\u001b[0m, in \u001b[0;36mFAISS.similarity_search\u001b[1;34m(self, query, k, filter, fetch_k, **kwargs)\u001b[0m\n\u001b[0;32m    623\u001b[0m \u001b[38;5;28;01mdef\u001b[39;00m\u001b[38;5;250m \u001b[39m\u001b[38;5;21msimilarity_search\u001b[39m(\n\u001b[0;32m    624\u001b[0m     \u001b[38;5;28mself\u001b[39m,\n\u001b[0;32m    625\u001b[0m     query: \u001b[38;5;28mstr\u001b[39m,\n\u001b[1;32m   (...)\u001b[0m\n\u001b[0;32m    629\u001b[0m     \u001b[38;5;241m*\u001b[39m\u001b[38;5;241m*\u001b[39mkwargs: Any,\n\u001b[0;32m    630\u001b[0m ) \u001b[38;5;241m-\u001b[39m\u001b[38;5;241m>\u001b[39m List[Document]:\n\u001b[0;32m    631\u001b[0m \u001b[38;5;250m    \u001b[39m\u001b[38;5;124;03m\"\"\"Return docs most similar to query.\u001b[39;00m\n\u001b[0;32m    632\u001b[0m \n\u001b[0;32m    633\u001b[0m \u001b[38;5;124;03m    Args:\u001b[39;00m\n\u001b[1;32m   (...)\u001b[0m\n\u001b[0;32m    641\u001b[0m \u001b[38;5;124;03m        List of Documents most similar to the query.\u001b[39;00m\n\u001b[0;32m    642\u001b[0m \u001b[38;5;124;03m    \"\"\"\u001b[39;00m\n\u001b[1;32m--> 643\u001b[0m     docs_and_scores \u001b[38;5;241m=\u001b[39m \u001b[38;5;28mself\u001b[39m\u001b[38;5;241m.\u001b[39msimilarity_search_with_score(\n\u001b[0;32m    644\u001b[0m         query, k, \u001b[38;5;28mfilter\u001b[39m\u001b[38;5;241m=\u001b[39m\u001b[38;5;28mfilter\u001b[39m, fetch_k\u001b[38;5;241m=\u001b[39mfetch_k, \u001b[38;5;241m*\u001b[39m\u001b[38;5;241m*\u001b[39mkwargs\n\u001b[0;32m    645\u001b[0m     )\n\u001b[0;32m    646\u001b[0m     \u001b[38;5;28;01mreturn\u001b[39;00m [doc \u001b[38;5;28;01mfor\u001b[39;00m doc, _ \u001b[38;5;129;01min\u001b[39;00m docs_and_scores]\n",
      "File \u001b[1;32mc:\\Users\\sanna\\conda\\anaconda3\\envs\\interview\\lib\\site-packages\\langchain_community\\vectorstores\\faiss.py:515\u001b[0m, in \u001b[0;36mFAISS.similarity_search_with_score\u001b[1;34m(self, query, k, filter, fetch_k, **kwargs)\u001b[0m\n\u001b[0;32m    491\u001b[0m \u001b[38;5;28;01mdef\u001b[39;00m\u001b[38;5;250m \u001b[39m\u001b[38;5;21msimilarity_search_with_score\u001b[39m(\n\u001b[0;32m    492\u001b[0m     \u001b[38;5;28mself\u001b[39m,\n\u001b[0;32m    493\u001b[0m     query: \u001b[38;5;28mstr\u001b[39m,\n\u001b[1;32m   (...)\u001b[0m\n\u001b[0;32m    497\u001b[0m     \u001b[38;5;241m*\u001b[39m\u001b[38;5;241m*\u001b[39mkwargs: Any,\n\u001b[0;32m    498\u001b[0m ) \u001b[38;5;241m-\u001b[39m\u001b[38;5;241m>\u001b[39m List[Tuple[Document, \u001b[38;5;28mfloat\u001b[39m]]:\n\u001b[0;32m    499\u001b[0m \u001b[38;5;250m    \u001b[39m\u001b[38;5;124;03m\"\"\"Return docs most similar to query.\u001b[39;00m\n\u001b[0;32m    500\u001b[0m \n\u001b[0;32m    501\u001b[0m \u001b[38;5;124;03m    Args:\u001b[39;00m\n\u001b[1;32m   (...)\u001b[0m\n\u001b[0;32m    513\u001b[0m \u001b[38;5;124;03m        L2 distance in float. Lower score represents more similarity.\u001b[39;00m\n\u001b[0;32m    514\u001b[0m \u001b[38;5;124;03m    \"\"\"\u001b[39;00m\n\u001b[1;32m--> 515\u001b[0m     embedding \u001b[38;5;241m=\u001b[39m \u001b[38;5;28;43mself\u001b[39;49m\u001b[38;5;241;43m.\u001b[39;49m\u001b[43m_embed_query\u001b[49m\u001b[43m(\u001b[49m\u001b[43mquery\u001b[49m\u001b[43m)\u001b[49m\n\u001b[0;32m    516\u001b[0m     docs \u001b[38;5;241m=\u001b[39m \u001b[38;5;28mself\u001b[39m\u001b[38;5;241m.\u001b[39msimilarity_search_with_score_by_vector(\n\u001b[0;32m    517\u001b[0m         embedding,\n\u001b[0;32m    518\u001b[0m         k,\n\u001b[1;32m   (...)\u001b[0m\n\u001b[0;32m    521\u001b[0m         \u001b[38;5;241m*\u001b[39m\u001b[38;5;241m*\u001b[39mkwargs,\n\u001b[0;32m    522\u001b[0m     )\n\u001b[0;32m    523\u001b[0m     \u001b[38;5;28;01mreturn\u001b[39;00m docs\n",
      "File \u001b[1;32mc:\\Users\\sanna\\conda\\anaconda3\\envs\\interview\\lib\\site-packages\\langchain_community\\vectorstores\\faiss.py:266\u001b[0m, in \u001b[0;36mFAISS._embed_query\u001b[1;34m(self, text)\u001b[0m\n\u001b[0;32m    264\u001b[0m \u001b[38;5;28;01mdef\u001b[39;00m\u001b[38;5;250m \u001b[39m\u001b[38;5;21m_embed_query\u001b[39m(\u001b[38;5;28mself\u001b[39m, text: \u001b[38;5;28mstr\u001b[39m) \u001b[38;5;241m-\u001b[39m\u001b[38;5;241m>\u001b[39m List[\u001b[38;5;28mfloat\u001b[39m]:\n\u001b[0;32m    265\u001b[0m     \u001b[38;5;28;01mif\u001b[39;00m \u001b[38;5;28misinstance\u001b[39m(\u001b[38;5;28mself\u001b[39m\u001b[38;5;241m.\u001b[39membedding_function, Embeddings):\n\u001b[1;32m--> 266\u001b[0m         \u001b[38;5;28;01mreturn\u001b[39;00m \u001b[38;5;28;43mself\u001b[39;49m\u001b[38;5;241;43m.\u001b[39;49m\u001b[43membedding_function\u001b[49m\u001b[38;5;241;43m.\u001b[39;49m\u001b[43membed_query\u001b[49m\u001b[43m(\u001b[49m\u001b[43mtext\u001b[49m\u001b[43m)\u001b[49m\n\u001b[0;32m    267\u001b[0m     \u001b[38;5;28;01melse\u001b[39;00m:\n\u001b[0;32m    268\u001b[0m         \u001b[38;5;28;01mreturn\u001b[39;00m \u001b[38;5;28mself\u001b[39m\u001b[38;5;241m.\u001b[39membedding_function(text)\n",
      "File \u001b[1;32mc:\\Users\\sanna\\conda\\anaconda3\\envs\\interview\\lib\\site-packages\\langchain_community\\embeddings\\huggingface.py:483\u001b[0m, in \u001b[0;36mHuggingFaceInferenceAPIEmbeddings.embed_query\u001b[1;34m(self, text)\u001b[0m\n\u001b[0;32m    474\u001b[0m \u001b[38;5;28;01mdef\u001b[39;00m\u001b[38;5;250m \u001b[39m\u001b[38;5;21membed_query\u001b[39m(\u001b[38;5;28mself\u001b[39m, text: \u001b[38;5;28mstr\u001b[39m) \u001b[38;5;241m-\u001b[39m\u001b[38;5;241m>\u001b[39m List[\u001b[38;5;28mfloat\u001b[39m]:\n\u001b[0;32m    475\u001b[0m \u001b[38;5;250m    \u001b[39m\u001b[38;5;124;03m\"\"\"Compute query embeddings using a HuggingFace transformer model.\u001b[39;00m\n\u001b[0;32m    476\u001b[0m \n\u001b[0;32m    477\u001b[0m \u001b[38;5;124;03m    Args:\u001b[39;00m\n\u001b[1;32m   (...)\u001b[0m\n\u001b[0;32m    481\u001b[0m \u001b[38;5;124;03m        Embeddings for the text.\u001b[39;00m\n\u001b[0;32m    482\u001b[0m \u001b[38;5;124;03m    \"\"\"\u001b[39;00m\n\u001b[1;32m--> 483\u001b[0m     \u001b[38;5;28;01mreturn\u001b[39;00m \u001b[38;5;28;43mself\u001b[39;49m\u001b[38;5;241;43m.\u001b[39;49m\u001b[43membed_documents\u001b[49m\u001b[43m(\u001b[49m\u001b[43m[\u001b[49m\u001b[43mtext\u001b[49m\u001b[43m]\u001b[49m\u001b[43m)\u001b[49m[\u001b[38;5;241m0\u001b[39m]\n",
      "File \u001b[1;32mc:\\Users\\sanna\\conda\\anaconda3\\envs\\interview\\lib\\site-packages\\langchain_community\\embeddings\\huggingface.py:464\u001b[0m, in \u001b[0;36mHuggingFaceInferenceAPIEmbeddings.embed_documents\u001b[1;34m(self, texts)\u001b[0m\n\u001b[0;32m    440\u001b[0m \u001b[38;5;28;01mdef\u001b[39;00m\u001b[38;5;250m \u001b[39m\u001b[38;5;21membed_documents\u001b[39m(\u001b[38;5;28mself\u001b[39m, texts: List[\u001b[38;5;28mstr\u001b[39m]) \u001b[38;5;241m-\u001b[39m\u001b[38;5;241m>\u001b[39m List[List[\u001b[38;5;28mfloat\u001b[39m]]:\n\u001b[0;32m    441\u001b[0m \u001b[38;5;250m    \u001b[39m\u001b[38;5;124;03m\"\"\"Get the embeddings for a list of texts.\u001b[39;00m\n\u001b[0;32m    442\u001b[0m \n\u001b[0;32m    443\u001b[0m \u001b[38;5;124;03m    Args:\u001b[39;00m\n\u001b[1;32m   (...)\u001b[0m\n\u001b[0;32m    462\u001b[0m \u001b[38;5;124;03m            hf_embeddings.embed_documents(texts)\u001b[39;00m\n\u001b[0;32m    463\u001b[0m \u001b[38;5;124;03m    \"\"\"\u001b[39;00m  \u001b[38;5;66;03m# noqa: E501\u001b[39;00m\n\u001b[1;32m--> 464\u001b[0m     response \u001b[38;5;241m=\u001b[39m \u001b[43mrequests\u001b[49m\u001b[38;5;241;43m.\u001b[39;49m\u001b[43mpost\u001b[49m\u001b[43m(\u001b[49m\n\u001b[0;32m    465\u001b[0m \u001b[43m        \u001b[49m\u001b[38;5;28;43mself\u001b[39;49m\u001b[38;5;241;43m.\u001b[39;49m\u001b[43m_api_url\u001b[49m\u001b[43m,\u001b[49m\n\u001b[0;32m    466\u001b[0m \u001b[43m        \u001b[49m\u001b[43mheaders\u001b[49m\u001b[38;5;241;43m=\u001b[39;49m\u001b[38;5;28;43mself\u001b[39;49m\u001b[38;5;241;43m.\u001b[39;49m\u001b[43m_headers\u001b[49m\u001b[43m,\u001b[49m\n\u001b[0;32m    467\u001b[0m \u001b[43m        \u001b[49m\u001b[43mjson\u001b[49m\u001b[38;5;241;43m=\u001b[39;49m\u001b[43m{\u001b[49m\n\u001b[0;32m    468\u001b[0m \u001b[43m            \u001b[49m\u001b[38;5;124;43m\"\u001b[39;49m\u001b[38;5;124;43minputs\u001b[39;49m\u001b[38;5;124;43m\"\u001b[39;49m\u001b[43m:\u001b[49m\u001b[43m \u001b[49m\u001b[43mtexts\u001b[49m\u001b[43m,\u001b[49m\n\u001b[0;32m    469\u001b[0m \u001b[43m            \u001b[49m\u001b[38;5;124;43m\"\u001b[39;49m\u001b[38;5;124;43moptions\u001b[39;49m\u001b[38;5;124;43m\"\u001b[39;49m\u001b[43m:\u001b[49m\u001b[43m \u001b[49m\u001b[43m{\u001b[49m\u001b[38;5;124;43m\"\u001b[39;49m\u001b[38;5;124;43mwait_for_model\u001b[39;49m\u001b[38;5;124;43m\"\u001b[39;49m\u001b[43m:\u001b[49m\u001b[43m \u001b[49m\u001b[38;5;28;43;01mTrue\u001b[39;49;00m\u001b[43m,\u001b[49m\u001b[43m \u001b[49m\u001b[38;5;124;43m\"\u001b[39;49m\u001b[38;5;124;43muse_cache\u001b[39;49m\u001b[38;5;124;43m\"\u001b[39;49m\u001b[43m:\u001b[49m\u001b[43m \u001b[49m\u001b[38;5;28;43;01mTrue\u001b[39;49;00m\u001b[43m}\u001b[49m\u001b[43m,\u001b[49m\n\u001b[0;32m    470\u001b[0m \u001b[43m        \u001b[49m\u001b[43m}\u001b[49m\u001b[43m,\u001b[49m\n\u001b[0;32m    471\u001b[0m \u001b[43m    \u001b[49m\u001b[43m)\u001b[49m\n\u001b[0;32m    472\u001b[0m     \u001b[38;5;28;01mreturn\u001b[39;00m response\u001b[38;5;241m.\u001b[39mjson()\n",
      "File \u001b[1;32mc:\\Users\\sanna\\conda\\anaconda3\\envs\\interview\\lib\\site-packages\\requests\\api.py:115\u001b[0m, in \u001b[0;36mpost\u001b[1;34m(url, data, json, **kwargs)\u001b[0m\n\u001b[0;32m    103\u001b[0m \u001b[38;5;28;01mdef\u001b[39;00m\u001b[38;5;250m \u001b[39m\u001b[38;5;21mpost\u001b[39m(url, data\u001b[38;5;241m=\u001b[39m\u001b[38;5;28;01mNone\u001b[39;00m, json\u001b[38;5;241m=\u001b[39m\u001b[38;5;28;01mNone\u001b[39;00m, \u001b[38;5;241m*\u001b[39m\u001b[38;5;241m*\u001b[39mkwargs):\n\u001b[0;32m    104\u001b[0m \u001b[38;5;250m    \u001b[39m\u001b[38;5;124mr\u001b[39m\u001b[38;5;124;03m\"\"\"Sends a POST request.\u001b[39;00m\n\u001b[0;32m    105\u001b[0m \n\u001b[0;32m    106\u001b[0m \u001b[38;5;124;03m    :param url: URL for the new :class:`Request` object.\u001b[39;00m\n\u001b[1;32m   (...)\u001b[0m\n\u001b[0;32m    112\u001b[0m \u001b[38;5;124;03m    :rtype: requests.Response\u001b[39;00m\n\u001b[0;32m    113\u001b[0m \u001b[38;5;124;03m    \"\"\"\u001b[39;00m\n\u001b[1;32m--> 115\u001b[0m     \u001b[38;5;28;01mreturn\u001b[39;00m request(\u001b[38;5;124m\"\u001b[39m\u001b[38;5;124mpost\u001b[39m\u001b[38;5;124m\"\u001b[39m, url, data\u001b[38;5;241m=\u001b[39mdata, json\u001b[38;5;241m=\u001b[39mjson, \u001b[38;5;241m*\u001b[39m\u001b[38;5;241m*\u001b[39mkwargs)\n",
      "File \u001b[1;32mc:\\Users\\sanna\\conda\\anaconda3\\envs\\interview\\lib\\site-packages\\requests\\api.py:59\u001b[0m, in \u001b[0;36mrequest\u001b[1;34m(method, url, **kwargs)\u001b[0m\n\u001b[0;32m     55\u001b[0m \u001b[38;5;66;03m# By using the 'with' statement we are sure the session is closed, thus we\u001b[39;00m\n\u001b[0;32m     56\u001b[0m \u001b[38;5;66;03m# avoid leaving sockets open which can trigger a ResourceWarning in some\u001b[39;00m\n\u001b[0;32m     57\u001b[0m \u001b[38;5;66;03m# cases, and look like a memory leak in others.\u001b[39;00m\n\u001b[0;32m     58\u001b[0m \u001b[38;5;28;01mwith\u001b[39;00m sessions\u001b[38;5;241m.\u001b[39mSession() \u001b[38;5;28;01mas\u001b[39;00m session:\n\u001b[1;32m---> 59\u001b[0m     \u001b[38;5;28;01mreturn\u001b[39;00m session\u001b[38;5;241m.\u001b[39mrequest(method\u001b[38;5;241m=\u001b[39mmethod, url\u001b[38;5;241m=\u001b[39murl, \u001b[38;5;241m*\u001b[39m\u001b[38;5;241m*\u001b[39mkwargs)\n",
      "File \u001b[1;32mc:\\Users\\sanna\\conda\\anaconda3\\envs\\interview\\lib\\site-packages\\requests\\sessions.py:589\u001b[0m, in \u001b[0;36mSession.request\u001b[1;34m(self, method, url, params, data, headers, cookies, files, auth, timeout, allow_redirects, proxies, hooks, stream, verify, cert, json)\u001b[0m\n\u001b[0;32m    584\u001b[0m send_kwargs \u001b[38;5;241m=\u001b[39m {\n\u001b[0;32m    585\u001b[0m     \u001b[38;5;124m\"\u001b[39m\u001b[38;5;124mtimeout\u001b[39m\u001b[38;5;124m\"\u001b[39m: timeout,\n\u001b[0;32m    586\u001b[0m     \u001b[38;5;124m\"\u001b[39m\u001b[38;5;124mallow_redirects\u001b[39m\u001b[38;5;124m\"\u001b[39m: allow_redirects,\n\u001b[0;32m    587\u001b[0m }\n\u001b[0;32m    588\u001b[0m send_kwargs\u001b[38;5;241m.\u001b[39mupdate(settings)\n\u001b[1;32m--> 589\u001b[0m resp \u001b[38;5;241m=\u001b[39m \u001b[38;5;28mself\u001b[39m\u001b[38;5;241m.\u001b[39msend(prep, \u001b[38;5;241m*\u001b[39m\u001b[38;5;241m*\u001b[39msend_kwargs)\n\u001b[0;32m    591\u001b[0m \u001b[38;5;28;01mreturn\u001b[39;00m resp\n",
      "File \u001b[1;32mc:\\Users\\sanna\\conda\\anaconda3\\envs\\interview\\lib\\site-packages\\requests\\sessions.py:703\u001b[0m, in \u001b[0;36mSession.send\u001b[1;34m(self, request, **kwargs)\u001b[0m\n\u001b[0;32m    700\u001b[0m start \u001b[38;5;241m=\u001b[39m preferred_clock()\n\u001b[0;32m    702\u001b[0m \u001b[38;5;66;03m# Send the request\u001b[39;00m\n\u001b[1;32m--> 703\u001b[0m r \u001b[38;5;241m=\u001b[39m adapter\u001b[38;5;241m.\u001b[39msend(request, \u001b[38;5;241m*\u001b[39m\u001b[38;5;241m*\u001b[39mkwargs)\n\u001b[0;32m    705\u001b[0m \u001b[38;5;66;03m# Total elapsed time of the request (approximately)\u001b[39;00m\n\u001b[0;32m    706\u001b[0m elapsed \u001b[38;5;241m=\u001b[39m preferred_clock() \u001b[38;5;241m-\u001b[39m start\n",
      "File \u001b[1;32mc:\\Users\\sanna\\conda\\anaconda3\\envs\\interview\\lib\\site-packages\\requests\\adapters.py:667\u001b[0m, in \u001b[0;36mHTTPAdapter.send\u001b[1;34m(self, request, stream, timeout, verify, cert, proxies)\u001b[0m\n\u001b[0;32m    664\u001b[0m     timeout \u001b[38;5;241m=\u001b[39m TimeoutSauce(connect\u001b[38;5;241m=\u001b[39mtimeout, read\u001b[38;5;241m=\u001b[39mtimeout)\n\u001b[0;32m    666\u001b[0m \u001b[38;5;28;01mtry\u001b[39;00m:\n\u001b[1;32m--> 667\u001b[0m     resp \u001b[38;5;241m=\u001b[39m \u001b[43mconn\u001b[49m\u001b[38;5;241;43m.\u001b[39;49m\u001b[43murlopen\u001b[49m\u001b[43m(\u001b[49m\n\u001b[0;32m    668\u001b[0m \u001b[43m        \u001b[49m\u001b[43mmethod\u001b[49m\u001b[38;5;241;43m=\u001b[39;49m\u001b[43mrequest\u001b[49m\u001b[38;5;241;43m.\u001b[39;49m\u001b[43mmethod\u001b[49m\u001b[43m,\u001b[49m\n\u001b[0;32m    669\u001b[0m \u001b[43m        \u001b[49m\u001b[43murl\u001b[49m\u001b[38;5;241;43m=\u001b[39;49m\u001b[43murl\u001b[49m\u001b[43m,\u001b[49m\n\u001b[0;32m    670\u001b[0m \u001b[43m        \u001b[49m\u001b[43mbody\u001b[49m\u001b[38;5;241;43m=\u001b[39;49m\u001b[43mrequest\u001b[49m\u001b[38;5;241;43m.\u001b[39;49m\u001b[43mbody\u001b[49m\u001b[43m,\u001b[49m\n\u001b[0;32m    671\u001b[0m \u001b[43m        \u001b[49m\u001b[43mheaders\u001b[49m\u001b[38;5;241;43m=\u001b[39;49m\u001b[43mrequest\u001b[49m\u001b[38;5;241;43m.\u001b[39;49m\u001b[43mheaders\u001b[49m\u001b[43m,\u001b[49m\n\u001b[0;32m    672\u001b[0m \u001b[43m        \u001b[49m\u001b[43mredirect\u001b[49m\u001b[38;5;241;43m=\u001b[39;49m\u001b[38;5;28;43;01mFalse\u001b[39;49;00m\u001b[43m,\u001b[49m\n\u001b[0;32m    673\u001b[0m \u001b[43m        \u001b[49m\u001b[43massert_same_host\u001b[49m\u001b[38;5;241;43m=\u001b[39;49m\u001b[38;5;28;43;01mFalse\u001b[39;49;00m\u001b[43m,\u001b[49m\n\u001b[0;32m    674\u001b[0m \u001b[43m        \u001b[49m\u001b[43mpreload_content\u001b[49m\u001b[38;5;241;43m=\u001b[39;49m\u001b[38;5;28;43;01mFalse\u001b[39;49;00m\u001b[43m,\u001b[49m\n\u001b[0;32m    675\u001b[0m \u001b[43m        \u001b[49m\u001b[43mdecode_content\u001b[49m\u001b[38;5;241;43m=\u001b[39;49m\u001b[38;5;28;43;01mFalse\u001b[39;49;00m\u001b[43m,\u001b[49m\n\u001b[0;32m    676\u001b[0m \u001b[43m        \u001b[49m\u001b[43mretries\u001b[49m\u001b[38;5;241;43m=\u001b[39;49m\u001b[38;5;28;43mself\u001b[39;49m\u001b[38;5;241;43m.\u001b[39;49m\u001b[43mmax_retries\u001b[49m\u001b[43m,\u001b[49m\n\u001b[0;32m    677\u001b[0m \u001b[43m        \u001b[49m\u001b[43mtimeout\u001b[49m\u001b[38;5;241;43m=\u001b[39;49m\u001b[43mtimeout\u001b[49m\u001b[43m,\u001b[49m\n\u001b[0;32m    678\u001b[0m \u001b[43m        \u001b[49m\u001b[43mchunked\u001b[49m\u001b[38;5;241;43m=\u001b[39;49m\u001b[43mchunked\u001b[49m\u001b[43m,\u001b[49m\n\u001b[0;32m    679\u001b[0m \u001b[43m    \u001b[49m\u001b[43m)\u001b[49m\n\u001b[0;32m    681\u001b[0m \u001b[38;5;28;01mexcept\u001b[39;00m (ProtocolError, \u001b[38;5;167;01mOSError\u001b[39;00m) \u001b[38;5;28;01mas\u001b[39;00m err:\n\u001b[0;32m    682\u001b[0m     \u001b[38;5;28;01mraise\u001b[39;00m \u001b[38;5;167;01mConnectionError\u001b[39;00m(err, request\u001b[38;5;241m=\u001b[39mrequest)\n",
      "File \u001b[1;32mc:\\Users\\sanna\\conda\\anaconda3\\envs\\interview\\lib\\site-packages\\urllib3\\connectionpool.py:787\u001b[0m, in \u001b[0;36mHTTPConnectionPool.urlopen\u001b[1;34m(self, method, url, body, headers, retries, redirect, assert_same_host, timeout, pool_timeout, release_conn, chunked, body_pos, preload_content, decode_content, **response_kw)\u001b[0m\n\u001b[0;32m    784\u001b[0m response_conn \u001b[38;5;241m=\u001b[39m conn \u001b[38;5;28;01mif\u001b[39;00m \u001b[38;5;129;01mnot\u001b[39;00m release_conn \u001b[38;5;28;01melse\u001b[39;00m \u001b[38;5;28;01mNone\u001b[39;00m\n\u001b[0;32m    786\u001b[0m \u001b[38;5;66;03m# Make the request on the HTTPConnection object\u001b[39;00m\n\u001b[1;32m--> 787\u001b[0m response \u001b[38;5;241m=\u001b[39m \u001b[38;5;28mself\u001b[39m\u001b[38;5;241m.\u001b[39m_make_request(\n\u001b[0;32m    788\u001b[0m     conn,\n\u001b[0;32m    789\u001b[0m     method,\n\u001b[0;32m    790\u001b[0m     url,\n\u001b[0;32m    791\u001b[0m     timeout\u001b[38;5;241m=\u001b[39mtimeout_obj,\n\u001b[0;32m    792\u001b[0m     body\u001b[38;5;241m=\u001b[39mbody,\n\u001b[0;32m    793\u001b[0m     headers\u001b[38;5;241m=\u001b[39mheaders,\n\u001b[0;32m    794\u001b[0m     chunked\u001b[38;5;241m=\u001b[39mchunked,\n\u001b[0;32m    795\u001b[0m     retries\u001b[38;5;241m=\u001b[39mretries,\n\u001b[0;32m    796\u001b[0m     response_conn\u001b[38;5;241m=\u001b[39mresponse_conn,\n\u001b[0;32m    797\u001b[0m     preload_content\u001b[38;5;241m=\u001b[39mpreload_content,\n\u001b[0;32m    798\u001b[0m     decode_content\u001b[38;5;241m=\u001b[39mdecode_content,\n\u001b[0;32m    799\u001b[0m     \u001b[38;5;241m*\u001b[39m\u001b[38;5;241m*\u001b[39mresponse_kw,\n\u001b[0;32m    800\u001b[0m )\n\u001b[0;32m    802\u001b[0m \u001b[38;5;66;03m# Everything went great!\u001b[39;00m\n\u001b[0;32m    803\u001b[0m clean_exit \u001b[38;5;241m=\u001b[39m \u001b[38;5;28;01mTrue\u001b[39;00m\n",
      "File \u001b[1;32mc:\\Users\\sanna\\conda\\anaconda3\\envs\\interview\\lib\\site-packages\\urllib3\\connectionpool.py:534\u001b[0m, in \u001b[0;36mHTTPConnectionPool._make_request\u001b[1;34m(self, conn, method, url, body, headers, retries, timeout, chunked, response_conn, preload_content, decode_content, enforce_content_length)\u001b[0m\n\u001b[0;32m    532\u001b[0m \u001b[38;5;66;03m# Receive the response from the server\u001b[39;00m\n\u001b[0;32m    533\u001b[0m \u001b[38;5;28;01mtry\u001b[39;00m:\n\u001b[1;32m--> 534\u001b[0m     response \u001b[38;5;241m=\u001b[39m \u001b[43mconn\u001b[49m\u001b[38;5;241;43m.\u001b[39;49m\u001b[43mgetresponse\u001b[49m\u001b[43m(\u001b[49m\u001b[43m)\u001b[49m\n\u001b[0;32m    535\u001b[0m \u001b[38;5;28;01mexcept\u001b[39;00m (BaseSSLError, \u001b[38;5;167;01mOSError\u001b[39;00m) \u001b[38;5;28;01mas\u001b[39;00m e:\n\u001b[0;32m    536\u001b[0m     \u001b[38;5;28mself\u001b[39m\u001b[38;5;241m.\u001b[39m_raise_timeout(err\u001b[38;5;241m=\u001b[39me, url\u001b[38;5;241m=\u001b[39murl, timeout_value\u001b[38;5;241m=\u001b[39mread_timeout)\n",
      "File \u001b[1;32mc:\\Users\\sanna\\conda\\anaconda3\\envs\\interview\\lib\\site-packages\\urllib3\\connection.py:516\u001b[0m, in \u001b[0;36mHTTPConnection.getresponse\u001b[1;34m(self)\u001b[0m\n\u001b[0;32m    513\u001b[0m _shutdown \u001b[38;5;241m=\u001b[39m \u001b[38;5;28mgetattr\u001b[39m(\u001b[38;5;28mself\u001b[39m\u001b[38;5;241m.\u001b[39msock, \u001b[38;5;124m\"\u001b[39m\u001b[38;5;124mshutdown\u001b[39m\u001b[38;5;124m\"\u001b[39m, \u001b[38;5;28;01mNone\u001b[39;00m)\n\u001b[0;32m    515\u001b[0m \u001b[38;5;66;03m# Get the response from http.client.HTTPConnection\u001b[39;00m\n\u001b[1;32m--> 516\u001b[0m httplib_response \u001b[38;5;241m=\u001b[39m \u001b[38;5;28;43msuper\u001b[39;49m\u001b[43m(\u001b[49m\u001b[43m)\u001b[49m\u001b[38;5;241;43m.\u001b[39;49m\u001b[43mgetresponse\u001b[49m\u001b[43m(\u001b[49m\u001b[43m)\u001b[49m\n\u001b[0;32m    518\u001b[0m \u001b[38;5;28;01mtry\u001b[39;00m:\n\u001b[0;32m    519\u001b[0m     assert_header_parsing(httplib_response\u001b[38;5;241m.\u001b[39mmsg)\n",
      "File \u001b[1;32mc:\\Users\\sanna\\conda\\anaconda3\\envs\\interview\\lib\\http\\client.py:1375\u001b[0m, in \u001b[0;36mHTTPConnection.getresponse\u001b[1;34m(self)\u001b[0m\n\u001b[0;32m   1373\u001b[0m \u001b[38;5;28;01mtry\u001b[39;00m:\n\u001b[0;32m   1374\u001b[0m     \u001b[38;5;28;01mtry\u001b[39;00m:\n\u001b[1;32m-> 1375\u001b[0m         \u001b[43mresponse\u001b[49m\u001b[38;5;241;43m.\u001b[39;49m\u001b[43mbegin\u001b[49m\u001b[43m(\u001b[49m\u001b[43m)\u001b[49m\n\u001b[0;32m   1376\u001b[0m     \u001b[38;5;28;01mexcept\u001b[39;00m \u001b[38;5;167;01mConnectionError\u001b[39;00m:\n\u001b[0;32m   1377\u001b[0m         \u001b[38;5;28mself\u001b[39m\u001b[38;5;241m.\u001b[39mclose()\n",
      "File \u001b[1;32mc:\\Users\\sanna\\conda\\anaconda3\\envs\\interview\\lib\\http\\client.py:318\u001b[0m, in \u001b[0;36mHTTPResponse.begin\u001b[1;34m(self)\u001b[0m\n\u001b[0;32m    316\u001b[0m \u001b[38;5;66;03m# read until we get a non-100 response\u001b[39;00m\n\u001b[0;32m    317\u001b[0m \u001b[38;5;28;01mwhile\u001b[39;00m \u001b[38;5;28;01mTrue\u001b[39;00m:\n\u001b[1;32m--> 318\u001b[0m     version, status, reason \u001b[38;5;241m=\u001b[39m \u001b[38;5;28;43mself\u001b[39;49m\u001b[38;5;241;43m.\u001b[39;49m\u001b[43m_read_status\u001b[49m\u001b[43m(\u001b[49m\u001b[43m)\u001b[49m\n\u001b[0;32m    319\u001b[0m     \u001b[38;5;28;01mif\u001b[39;00m status \u001b[38;5;241m!=\u001b[39m CONTINUE:\n\u001b[0;32m    320\u001b[0m         \u001b[38;5;28;01mbreak\u001b[39;00m\n",
      "File \u001b[1;32mc:\\Users\\sanna\\conda\\anaconda3\\envs\\interview\\lib\\http\\client.py:279\u001b[0m, in \u001b[0;36mHTTPResponse._read_status\u001b[1;34m(self)\u001b[0m\n\u001b[0;32m    278\u001b[0m \u001b[38;5;28;01mdef\u001b[39;00m\u001b[38;5;250m \u001b[39m\u001b[38;5;21m_read_status\u001b[39m(\u001b[38;5;28mself\u001b[39m):\n\u001b[1;32m--> 279\u001b[0m     line \u001b[38;5;241m=\u001b[39m \u001b[38;5;28mstr\u001b[39m(\u001b[38;5;28;43mself\u001b[39;49m\u001b[38;5;241;43m.\u001b[39;49m\u001b[43mfp\u001b[49m\u001b[38;5;241;43m.\u001b[39;49m\u001b[43mreadline\u001b[49m\u001b[43m(\u001b[49m\u001b[43m_MAXLINE\u001b[49m\u001b[43m \u001b[49m\u001b[38;5;241;43m+\u001b[39;49m\u001b[43m \u001b[49m\u001b[38;5;241;43m1\u001b[39;49m\u001b[43m)\u001b[49m, \u001b[38;5;124m\"\u001b[39m\u001b[38;5;124miso-8859-1\u001b[39m\u001b[38;5;124m\"\u001b[39m)\n\u001b[0;32m    280\u001b[0m     \u001b[38;5;28;01mif\u001b[39;00m \u001b[38;5;28mlen\u001b[39m(line) \u001b[38;5;241m>\u001b[39m _MAXLINE:\n\u001b[0;32m    281\u001b[0m         \u001b[38;5;28;01mraise\u001b[39;00m LineTooLong(\u001b[38;5;124m\"\u001b[39m\u001b[38;5;124mstatus line\u001b[39m\u001b[38;5;124m\"\u001b[39m)\n",
      "File \u001b[1;32mc:\\Users\\sanna\\conda\\anaconda3\\envs\\interview\\lib\\socket.py:717\u001b[0m, in \u001b[0;36mSocketIO.readinto\u001b[1;34m(self, b)\u001b[0m\n\u001b[0;32m    715\u001b[0m \u001b[38;5;28;01mwhile\u001b[39;00m \u001b[38;5;28;01mTrue\u001b[39;00m:\n\u001b[0;32m    716\u001b[0m     \u001b[38;5;28;01mtry\u001b[39;00m:\n\u001b[1;32m--> 717\u001b[0m         \u001b[38;5;28;01mreturn\u001b[39;00m \u001b[38;5;28;43mself\u001b[39;49m\u001b[38;5;241;43m.\u001b[39;49m\u001b[43m_sock\u001b[49m\u001b[38;5;241;43m.\u001b[39;49m\u001b[43mrecv_into\u001b[49m\u001b[43m(\u001b[49m\u001b[43mb\u001b[49m\u001b[43m)\u001b[49m\n\u001b[0;32m    718\u001b[0m     \u001b[38;5;28;01mexcept\u001b[39;00m timeout:\n\u001b[0;32m    719\u001b[0m         \u001b[38;5;28mself\u001b[39m\u001b[38;5;241m.\u001b[39m_timeout_occurred \u001b[38;5;241m=\u001b[39m \u001b[38;5;28;01mTrue\u001b[39;00m\n",
      "File \u001b[1;32mc:\\Users\\sanna\\conda\\anaconda3\\envs\\interview\\lib\\ssl.py:1307\u001b[0m, in \u001b[0;36mSSLSocket.recv_into\u001b[1;34m(self, buffer, nbytes, flags)\u001b[0m\n\u001b[0;32m   1303\u001b[0m     \u001b[38;5;28;01mif\u001b[39;00m flags \u001b[38;5;241m!=\u001b[39m \u001b[38;5;241m0\u001b[39m:\n\u001b[0;32m   1304\u001b[0m         \u001b[38;5;28;01mraise\u001b[39;00m \u001b[38;5;167;01mValueError\u001b[39;00m(\n\u001b[0;32m   1305\u001b[0m           \u001b[38;5;124m\"\u001b[39m\u001b[38;5;124mnon-zero flags not allowed in calls to recv_into() on \u001b[39m\u001b[38;5;132;01m%s\u001b[39;00m\u001b[38;5;124m\"\u001b[39m \u001b[38;5;241m%\u001b[39m\n\u001b[0;32m   1306\u001b[0m           \u001b[38;5;28mself\u001b[39m\u001b[38;5;241m.\u001b[39m\u001b[38;5;18m__class__\u001b[39m)\n\u001b[1;32m-> 1307\u001b[0m     \u001b[38;5;28;01mreturn\u001b[39;00m \u001b[38;5;28;43mself\u001b[39;49m\u001b[38;5;241;43m.\u001b[39;49m\u001b[43mread\u001b[49m\u001b[43m(\u001b[49m\u001b[43mnbytes\u001b[49m\u001b[43m,\u001b[49m\u001b[43m \u001b[49m\u001b[43mbuffer\u001b[49m\u001b[43m)\u001b[49m\n\u001b[0;32m   1308\u001b[0m \u001b[38;5;28;01melse\u001b[39;00m:\n\u001b[0;32m   1309\u001b[0m     \u001b[38;5;28;01mreturn\u001b[39;00m \u001b[38;5;28msuper\u001b[39m()\u001b[38;5;241m.\u001b[39mrecv_into(buffer, nbytes, flags)\n",
      "File \u001b[1;32mc:\\Users\\sanna\\conda\\anaconda3\\envs\\interview\\lib\\ssl.py:1163\u001b[0m, in \u001b[0;36mSSLSocket.read\u001b[1;34m(self, len, buffer)\u001b[0m\n\u001b[0;32m   1161\u001b[0m \u001b[38;5;28;01mtry\u001b[39;00m:\n\u001b[0;32m   1162\u001b[0m     \u001b[38;5;28;01mif\u001b[39;00m buffer \u001b[38;5;129;01mis\u001b[39;00m \u001b[38;5;129;01mnot\u001b[39;00m \u001b[38;5;28;01mNone\u001b[39;00m:\n\u001b[1;32m-> 1163\u001b[0m         \u001b[38;5;28;01mreturn\u001b[39;00m \u001b[38;5;28;43mself\u001b[39;49m\u001b[38;5;241;43m.\u001b[39;49m\u001b[43m_sslobj\u001b[49m\u001b[38;5;241;43m.\u001b[39;49m\u001b[43mread\u001b[49m\u001b[43m(\u001b[49m\u001b[38;5;28;43mlen\u001b[39;49m\u001b[43m,\u001b[49m\u001b[43m \u001b[49m\u001b[43mbuffer\u001b[49m\u001b[43m)\u001b[49m\n\u001b[0;32m   1164\u001b[0m     \u001b[38;5;28;01melse\u001b[39;00m:\n\u001b[0;32m   1165\u001b[0m         \u001b[38;5;28;01mreturn\u001b[39;00m \u001b[38;5;28mself\u001b[39m\u001b[38;5;241m.\u001b[39m_sslobj\u001b[38;5;241m.\u001b[39mread(\u001b[38;5;28mlen\u001b[39m)\n",
      "\u001b[1;31mKeyboardInterrupt\u001b[0m: "
     ]
    }
   ],
   "source": [
    "# Answer each question and save to a file\n",
    "for question in ques_list:\n",
    "    print(\"Question: \", question)\n",
    "    answer = answer_generation_chain.run(question)\n",
    "    print(\"Answer: \", answer)\n",
    "    print(\"--------------------------------------------------\\\\n\\\\n\")\n",
    "    # Save answer to file\n",
    "    with open(\"answers.txt\", \"a\") as f:\n",
    "        f.write(\"Question: \" + question + \"\\\\n\")\n",
    "        f.write(\"Answer: \" + answer + \"\\\\n\")\n",
    "        f.write(\"--------------------------------------------------\\\\n\\\\n\")\n",
    "\n",
    "\n"
   ]
  },
  {
   "cell_type": "code",
   "execution_count": null,
   "metadata": {},
   "outputs": [],
   "source": []
  }
 ],
 "metadata": {
  "kernelspec": {
   "display_name": "interview",
   "language": "python",
   "name": "python3"
  },
  "language_info": {
   "codemirror_mode": {
    "name": "ipython",
    "version": 3
   },
   "file_extension": ".py",
   "mimetype": "text/x-python",
   "name": "python",
   "nbconvert_exporter": "python",
   "pygments_lexer": "ipython3",
   "version": "3.10.16"
  }
 },
 "nbformat": 4,
 "nbformat_minor": 2
}
